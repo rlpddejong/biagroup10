{
 "cells": [
  {
   "cell_type": "markdown",
   "metadata": {},
   "source": [
    "# Optimization of the Activation Layer\n",
    "Course: 8P361  &emsp;&emsp;  Group: 10\n",
    "\n",
    "Helgers, V.M.J. &nbsp;&emsp;&emsp; 1329332 <br>\n",
    "Jong, de R.L.P.D. &nbsp;&nbsp;&emsp; 1328328 <br>\n",
    "Korsten, T. &nbsp;&nbsp;&nbsp;&nbsp;&emsp;&emsp;&emsp; 1340522 <br>\n",
    "Moharir, S. &emsp;&emsp;&emsp;&emsp; 1296256 <br>"
   ]
  },
  {
   "cell_type": "markdown",
   "metadata": {},
   "source": [
    "## Important notes\n",
    "\n",
    "1. Note that all functions needed to execute this notebook can be found in the respective python files in this folder.\n",
    "\n",
    "2. If one wants to run this notebook it is important to add the right path to the image data within the function 'get_pcam_generators' which is called below."
   ]
  },
  {
   "cell_type": "markdown",
   "metadata": {},
   "source": [
    "### Optimization of Activation Layers"
   ]
  },
  {
   "cell_type": "markdown",
   "metadata": {},
   "source": [
    "In this section, there will be an optimization for the best activation in the model, determined in the previous optimization layers. The types of activation which are going to be used are:\n",
    "1. Relu\n",
    "2. Sigmoid\n",
    "3. TanH\n",
    "4. LeakyRelu"
   ]
  },
  {
   "cell_type": "markdown",
   "metadata": {},
   "source": [
    "Before every model is run, the dataset is loaded in. This is done again inbefore running a new model, for the sake of keeping the circumstances the same for every model."
   ]
  },
  {
   "cell_type": "markdown",
   "metadata": {},
   "source": [
    "## 2. Get and train the models."
   ]
  },
  {
   "cell_type": "markdown",
   "metadata": {},
   "source": [
    "### 2.1 Model with LeakyReLu activation"
   ]
  },
  {
   "cell_type": "code",
   "execution_count": 1,
   "metadata": {},
   "outputs": [
    {
     "ename": "ModuleNotFoundError",
     "evalue": "No module named 'Optimization_Activation_LeakyReLu'",
     "output_type": "error",
     "traceback": [
      "\u001b[0;31m---------------------------------------------------------------------------\u001b[0m",
      "\u001b[0;31mModuleNotFoundError\u001b[0m                       Traceback (most recent call last)",
      "\u001b[0;32m<ipython-input-1-ba7b6df470c2>\u001b[0m in \u001b[0;36m<module>\u001b[0;34m\u001b[0m\n\u001b[0;32m----> 1\u001b[0;31m \u001b[0;32mfrom\u001b[0m \u001b[0mOptimization_Activation_LeakyReLu\u001b[0m \u001b[0;32mimport\u001b[0m \u001b[0mget_pcam_generators\u001b[0m\u001b[0;34m,\u001b[0m \u001b[0mget_model\u001b[0m\u001b[0;34m,\u001b[0m \u001b[0mtrain_model\u001b[0m\u001b[0;34m\u001b[0m\u001b[0;34m\u001b[0m\u001b[0m\n\u001b[0m",
      "\u001b[0;31mModuleNotFoundError\u001b[0m: No module named 'Optimization_Activation_LeakyReLu'"
     ]
    }
   ],
   "source": [
    "from Optimization_Activation_LeakyReLu import get_pcam_generators, get_model, train_model"
   ]
  },
  {
   "cell_type": "code",
   "execution_count": 2,
   "metadata": {},
   "outputs": [
    {
     "name": "stdout",
     "output_type": "stream",
     "text": [
      "Found 144000 images belonging to 2 classes.\n",
      "Found 16000 images belonging to 2 classes.\n"
     ]
    }
   ],
   "source": [
    "train_gen, val_gen = get_pcam_generators('data')"
   ]
  },
  {
   "cell_type": "code",
   "execution_count": 3,
   "metadata": {},
   "outputs": [],
   "source": [
    "modelleaky = get_model()"
   ]
  },
  {
   "cell_type": "code",
   "execution_count": 4,
   "metadata": {},
   "outputs": [
    {
     "name": "stderr",
     "output_type": "stream",
     "text": [
      "/home/8p361-lecturer/anaconda3/lib/python3.8/site-packages/tensorflow/python/keras/engine/training.py:1844: UserWarning: `Model.fit_generator` is deprecated and will be removed in a future version. Please use `Model.fit`, which supports generators.\n",
      "  warnings.warn('`Model.fit_generator` is deprecated and '\n"
     ]
    },
    {
     "name": "stdout",
     "output_type": "stream",
     "text": [
      "Epoch 1/3\n",
      "4500/4500 [==============================] - 128s 28ms/step - loss: 0.6008 - accuracy: 0.6391 - val_loss: 0.4561 - val_accuracy: 0.7853\n",
      "\n",
      "Epoch 00001: val_loss improved from inf to 0.45607, saving model to model_weights.hdf5\n",
      "Epoch 2/3\n",
      "4500/4500 [==============================] - 122s 27ms/step - loss: 0.4037 - accuracy: 0.8194 - val_loss: 0.3009 - val_accuracy: 0.8729\n",
      "\n",
      "Epoch 00002: val_loss improved from 0.45607 to 0.30087, saving model to model_weights.hdf5\n",
      "Epoch 3/3\n",
      "4500/4500 [==============================] - 122s 27ms/step - loss: 0.3059 - accuracy: 0.8711 - val_loss: 0.2544 - val_accuracy: 0.8964\n",
      "\n",
      "Epoch 00003: val_loss improved from 0.30087 to 0.25438, saving model to model_weights.hdf5\n"
     ]
    }
   ],
   "source": [
    "# Train the model\n",
    "train_model(modelleaky, train_gen, val_gen, 'model')"
   ]
  },
  {
   "cell_type": "markdown",
   "metadata": {},
   "source": [
    "### 2.2 Model with Tanh activation"
   ]
  },
  {
   "cell_type": "code",
   "execution_count": 2,
   "metadata": {},
   "outputs": [],
   "source": [
    "from Optimization_Activation import get_model_act, get_pcam_generators, train_model"
   ]
  },
  {
   "cell_type": "code",
   "execution_count": 3,
   "metadata": {},
   "outputs": [
    {
     "name": "stdout",
     "output_type": "stream",
     "text": [
      "Found 144000 images belonging to 2 classes.\n",
      "Found 16000 images belonging to 2 classes.\n"
     ]
    }
   ],
   "source": [
    "train_gen_tanh, val_gen_tanh = get_pcam_generators('data')"
   ]
  },
  {
   "cell_type": "code",
   "execution_count": 5,
   "metadata": {},
   "outputs": [],
   "source": [
    "modelH = get_model_act('tanh')"
   ]
  },
  {
   "cell_type": "code",
   "execution_count": 6,
   "metadata": {},
   "outputs": [
    {
     "name": "stdout",
     "output_type": "stream",
     "text": [
      "Epoch 1/3\n",
      "4500/4500 [==============================] - 116s 26ms/step - loss: 0.5262 - accuracy: 0.7305 - val_loss: 0.4187 - val_accuracy: 0.8111\n",
      "\n",
      "Epoch 00001: val_loss improved from inf to 0.41870, saving model to modelH_weights.hdf5\n",
      "Epoch 2/3\n",
      "4500/4500 [==============================] - 115s 25ms/step - loss: 0.4048 - accuracy: 0.8178 - val_loss: 0.3438 - val_accuracy: 0.8472\n",
      "\n",
      "Epoch 00002: val_loss improved from 0.41870 to 0.34383, saving model to modelH_weights.hdf5\n",
      "Epoch 3/3\n",
      "4500/4500 [==============================] - 115s 26ms/step - loss: 0.3487 - accuracy: 0.8488 - val_loss: 0.3373 - val_accuracy: 0.8482\n",
      "\n",
      "Epoch 00003: val_loss improved from 0.34383 to 0.33725, saving model to modelH_weights.hdf5\n"
     ]
    }
   ],
   "source": [
    "train_model(modelH,train_gen_tanh,val_gen_tanh,'modelH')"
   ]
  },
  {
   "cell_type": "markdown",
   "metadata": {},
   "source": [
    "### 2.3 Model with sigmoid activation"
   ]
  },
  {
   "cell_type": "code",
   "execution_count": 4,
   "metadata": {},
   "outputs": [
    {
     "name": "stdout",
     "output_type": "stream",
     "text": [
      "Found 144000 images belonging to 2 classes.\n",
      "Found 16000 images belonging to 2 classes.\n"
     ]
    }
   ],
   "source": [
    "train_genS, val_genS = get_pcam_generators('data')"
   ]
  },
  {
   "cell_type": "code",
   "execution_count": 5,
   "metadata": {},
   "outputs": [],
   "source": [
    "modelS = get_model_act('sigmoid')"
   ]
  },
  {
   "cell_type": "code",
   "execution_count": 6,
   "metadata": {},
   "outputs": [
    {
     "name": "stderr",
     "output_type": "stream",
     "text": [
      "/home/8p361-lecturer/anaconda3/lib/python3.8/site-packages/tensorflow/python/keras/engine/training.py:1844: UserWarning: `Model.fit_generator` is deprecated and will be removed in a future version. Please use `Model.fit`, which supports generators.\n",
      "  warnings.warn('`Model.fit_generator` is deprecated and '\n"
     ]
    },
    {
     "name": "stdout",
     "output_type": "stream",
     "text": [
      "Epoch 1/3\n",
      "4500/4500 [==============================] - 118s 26ms/step - loss: 0.7095 - accuracy: 0.5042 - val_loss: 0.6944 - val_accuracy: 0.5000\n",
      "\n",
      "Epoch 00001: val_loss improved from inf to 0.69445, saving model to modelS_weights.hdf5\n",
      "Epoch 2/3\n",
      "4500/4500 [==============================] - 116s 26ms/step - loss: 0.6950 - accuracy: 0.4997 - val_loss: 0.6937 - val_accuracy: 0.5000\n",
      "\n",
      "Epoch 00002: val_loss improved from 0.69445 to 0.69367, saving model to modelS_weights.hdf5\n",
      "Epoch 3/3\n",
      "4500/4500 [==============================] - 116s 26ms/step - loss: 0.6938 - accuracy: 0.4978 - val_loss: 0.6932 - val_accuracy: 0.5000\n",
      "\n",
      "Epoch 00003: val_loss improved from 0.69367 to 0.69319, saving model to modelS_weights.hdf5\n"
     ]
    }
   ],
   "source": [
    "train_model(modelS,train_genS,val_genS,'modelS')"
   ]
  },
  {
   "cell_type": "markdown",
   "metadata": {},
   "source": [
    "### 2.4 Model with relu activation"
   ]
  },
  {
   "cell_type": "code",
   "execution_count": 5,
   "metadata": {},
   "outputs": [
    {
     "name": "stdout",
     "output_type": "stream",
     "text": [
      "Found 144000 images belonging to 2 classes.\n",
      "Found 16000 images belonging to 2 classes.\n"
     ]
    }
   ],
   "source": [
    "train_genR, val_genR = get_pcam_generators('data')"
   ]
  },
  {
   "cell_type": "code",
   "execution_count": 6,
   "metadata": {},
   "outputs": [],
   "source": [
    "modelR = get_model_act('relu')"
   ]
  },
  {
   "cell_type": "code",
   "execution_count": 7,
   "metadata": {},
   "outputs": [
    {
     "name": "stdout",
     "output_type": "stream",
     "text": [
      "Epoch 1/3\n",
      "4500/4500 [==============================] - 119s 26ms/step - loss: 0.6929 - accuracy: 0.5107 - val_loss: 0.6933 - val_accuracy: 0.5000\n",
      "\n",
      "Epoch 00001: val_loss improved from inf to 0.69333, saving model to modelR_weights.hdf5\n",
      "Epoch 2/3\n",
      "4500/4500 [==============================] - 119s 26ms/step - loss: 0.6824 - accuracy: 0.5324 - val_loss: 0.4736 - val_accuracy: 0.7853\n",
      "\n",
      "Epoch 00002: val_loss improved from 0.69333 to 0.47355, saving model to modelR_weights.hdf5\n",
      "Epoch 3/3\n",
      "4500/4500 [==============================] - 119s 26ms/step - loss: 0.4590 - accuracy: 0.7912 - val_loss: 0.4098 - val_accuracy: 0.8169\n",
      "\n",
      "Epoch 00003: val_loss improved from 0.47355 to 0.40980, saving model to modelR_weights.hdf5\n"
     ]
    }
   ],
   "source": [
    "train_model(modelR,train_genR,val_genR,'modelR')"
   ]
  }
 ],
 "metadata": {
  "kernelspec": {
   "display_name": "Python 3",
   "language": "python",
   "name": "python3"
  },
  "language_info": {
   "codemirror_mode": {
    "name": "ipython",
    "version": 3
   },
   "file_extension": ".py",
   "mimetype": "text/x-python",
   "name": "python",
   "nbconvert_exporter": "python",
   "pygments_lexer": "ipython3",
   "version": "3.8.5"
  }
 },
 "nbformat": 4,
 "nbformat_minor": 4
}
