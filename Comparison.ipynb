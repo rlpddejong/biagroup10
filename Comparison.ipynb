{
 "cells": [
  {
   "cell_type": "markdown",
   "metadata": {},
   "source": [
    "# Comparison of the transfer model, Resnet50, and the designed model\n",
    "Course: 8P361  &emsp;&emsp;  Group: 10\n",
    "\n",
    "Helgers, V.M.J. \t&emsp;&emsp; 1329332 <br>\n",
    "Jong, de R.L.P.D.\t&emsp;  1328328 <br>\n",
    "Korsten, T.\t\t    &emsp;&emsp;&emsp;&emsp; 1340522 <br>\n",
    "Moharir, S. \t\t&emsp;&emsp;&emsp;&emsp; 1296256 <br>"
   ]
  },
  {
   "cell_type": "markdown",
   "metadata": {},
   "source": [
    "## Important notes\n",
    "\n",
    "1. Note that all functions needed to execute this notebook can be found in the Comparison.py file.\n",
    "\n",
    "2. If one wants to run this notebook it is important to add the right path to the image data within the function 'get_pcam_generators' which is called below."
   ]
  },
  {
   "cell_type": "markdown",
   "metadata": {},
   "source": [
    "## What the notebook does\n",
    "This notebook compares the designed model with the tranfermodel. Both of these models will be compared on the basis of there AUC score, and PPV and NPV on the validation set, since there are no labels available for the test set. However via a kaggle submission the AUC score on the test set can be aqcuired."
   ]
  },
  {
   "cell_type": "markdown",
   "metadata": {},
   "source": [
    "### 1. First, import the relevant functions."
   ]
  },
  {
   "cell_type": "code",
   "execution_count": 1,
   "metadata": {},
   "outputs": [],
   "source": [
    "from Comparison import get_pcam_generators_transfer, get_transfer_model, train_transfer_model\n",
    "from Comparison import get_pcam_generators_des, get_des_model, train_des_model\n",
    "from Comparison import load_model, ROC_curve, analysis"
   ]
  },
  {
   "cell_type": "markdown",
   "metadata": {},
   "source": [
    "### 2. Get the models"
   ]
  },
  {
   "cell_type": "markdown",
   "metadata": {},
   "source": [
    "#### 2.1 Transfer model: Resnet50"
   ]
  },
  {
   "cell_type": "code",
   "execution_count": 2,
   "metadata": {},
   "outputs": [
    {
     "name": "stdout",
     "output_type": "stream",
     "text": [
      "Found 144000 images belonging to 2 classes.\n",
      "Found 16000 images belonging to 2 classes.\n"
     ]
    }
   ],
   "source": [
    "train_gen_transfer, val_gen_transfer = get_pcam_generators_transfer('data',train_batch_size=32,val_batch_size=32,shuffle=True)"
   ]
  },
  {
   "cell_type": "code",
   "execution_count": 3,
   "metadata": {},
   "outputs": [
    {
     "name": "stdout",
     "output_type": "stream",
     "text": [
      "Model: \"model\"\n",
      "_________________________________________________________________\n",
      "Layer (type)                 Output Shape              Param #   \n",
      "=================================================================\n",
      "input_1 (InputLayer)         [(None, 96, 96, 3)]       0         \n",
      "_________________________________________________________________\n",
      "resnet50 (Functional)        (None, 3, 3, 2048)        23587712  \n",
      "_________________________________________________________________\n",
      "global_average_pooling2d (Gl (None, 2048)              0         \n",
      "_________________________________________________________________\n",
      "dropout (Dropout)            (None, 2048)              0         \n",
      "_________________________________________________________________\n",
      "dense (Dense)                (None, 1)                 2049      \n",
      "=================================================================\n",
      "Total params: 23,589,761\n",
      "Trainable params: 23,536,641\n",
      "Non-trainable params: 53,120\n",
      "_________________________________________________________________\n"
     ]
    }
   ],
   "source": [
    "transfer = get_transfer_model('imagenet')"
   ]
  },
  {
   "cell_type": "code",
   "execution_count": 4,
   "metadata": {},
   "outputs": [
    {
     "name": "stderr",
     "output_type": "stream",
     "text": [
      "/home/8p361-lecturer/anaconda3/lib/python3.8/site-packages/tensorflow/python/keras/engine/training.py:1844: UserWarning: `Model.fit_generator` is deprecated and will be removed in a future version. Please use `Model.fit`, which supports generators.\n",
      "  warnings.warn('`Model.fit_generator` is deprecated and '\n"
     ]
    },
    {
     "name": "stdout",
     "output_type": "stream",
     "text": [
      "Epoch 1/10\n",
      "225/225 [==============================] - 29s 73ms/step - loss: 0.5495 - accuracy: 0.7494 - val_loss: 1.0415 - val_accuracy: 0.4212\n",
      "\n",
      "Epoch 00001: val_loss improved from inf to 1.04149, saving model to Transfer_model_weights.hdf5\n",
      "Epoch 2/10\n",
      "225/225 [==============================] - 12s 54ms/step - loss: 0.3352 - accuracy: 0.8666 - val_loss: 0.7794 - val_accuracy: 0.5337\n",
      "\n",
      "Epoch 00002: val_loss improved from 1.04149 to 0.77942, saving model to Transfer_model_weights.hdf5\n",
      "Epoch 3/10\n",
      "225/225 [==============================] - 12s 53ms/step - loss: 0.3105 - accuracy: 0.8845 - val_loss: 1.5111 - val_accuracy: 0.6950\n",
      "\n",
      "Epoch 00003: val_loss did not improve from 0.77942\n",
      "Epoch 4/10\n",
      "225/225 [==============================] - 12s 53ms/step - loss: 0.2740 - accuracy: 0.8901 - val_loss: 0.9829 - val_accuracy: 0.7600\n",
      "\n",
      "Epoch 00004: val_loss did not improve from 0.77942\n",
      "Epoch 5/10\n",
      "225/225 [==============================] - 12s 53ms/step - loss: 0.2262 - accuracy: 0.9113 - val_loss: 0.1920 - val_accuracy: 0.9312\n",
      "\n",
      "Epoch 00005: val_loss improved from 0.77942 to 0.19201, saving model to Transfer_model_weights.hdf5\n",
      "Epoch 6/10\n",
      "225/225 [==============================] - 12s 53ms/step - loss: 0.2092 - accuracy: 0.9237 - val_loss: 0.1896 - val_accuracy: 0.9175\n",
      "\n",
      "Epoch 00006: val_loss improved from 0.19201 to 0.18958, saving model to Transfer_model_weights.hdf5\n",
      "Epoch 7/10\n",
      "225/225 [==============================] - 12s 53ms/step - loss: 0.2177 - accuracy: 0.9170 - val_loss: 0.1795 - val_accuracy: 0.9388\n",
      "\n",
      "Epoch 00007: val_loss improved from 0.18958 to 0.17952, saving model to Transfer_model_weights.hdf5\n",
      "Epoch 8/10\n",
      "225/225 [==============================] - 12s 54ms/step - loss: 0.2103 - accuracy: 0.9172 - val_loss: 0.2007 - val_accuracy: 0.9200\n",
      "\n",
      "Epoch 00008: val_loss did not improve from 0.17952\n",
      "Epoch 9/10\n",
      "225/225 [==============================] - 12s 55ms/step - loss: 0.2078 - accuracy: 0.9189 - val_loss: 0.1724 - val_accuracy: 0.9312\n",
      "\n",
      "Epoch 00009: val_loss improved from 0.17952 to 0.17242, saving model to Transfer_model_weights.hdf5\n",
      "Epoch 10/10\n",
      "225/225 [==============================] - 12s 54ms/step - loss: 0.1676 - accuracy: 0.9363 - val_loss: 0.1853 - val_accuracy: 0.9350\n",
      "\n",
      "Epoch 00010: val_loss did not improve from 0.17242\n"
     ]
    }
   ],
   "source": [
    "train_transfer_model(transfer,train_gen_transfer,val_gen_transfer,'Transfer_model')"
   ]
  },
  {
   "cell_type": "markdown",
   "metadata": {},
   "source": [
    "#### 2.2 Designed model"
   ]
  },
  {
   "cell_type": "code",
   "execution_count": 2,
   "metadata": {},
   "outputs": [
    {
     "name": "stdout",
     "output_type": "stream",
     "text": [
      "Found 144000 images belonging to 2 classes.\n",
      "Found 16000 images belonging to 2 classes.\n"
     ]
    }
   ],
   "source": [
    "train_gen_des, val_gen_des = get_pcam_generators_des('data',train_batch_size=128,val_batch_size=128)"
   ]
  },
  {
   "cell_type": "code",
   "execution_count": 3,
   "metadata": {},
   "outputs": [],
   "source": [
    "designed = get_des_model()"
   ]
  },
  {
   "cell_type": "code",
   "execution_count": 4,
   "metadata": {},
   "outputs": [
    {
     "name": "stderr",
     "output_type": "stream",
     "text": [
      "/home/8p361-lecturer/anaconda3/lib/python3.8/site-packages/tensorflow/python/keras/engine/training.py:1844: UserWarning: `Model.fit_generator` is deprecated and will be removed in a future version. Please use `Model.fit`, which supports generators.\n",
      "  warnings.warn('`Model.fit_generator` is deprecated and '\n"
     ]
    },
    {
     "name": "stdout",
     "output_type": "stream",
     "text": [
      "Epoch 1/10\n",
      "1125/1125 [==============================] - 148s 126ms/step - loss: 0.4959 - accuracy: 0.7520 - val_loss: 0.3412 - val_accuracy: 0.8524\n",
      "\n",
      "Epoch 00001: val_loss improved from inf to 0.34125, saving model to Designed_model_weights.hdf5\n",
      "Epoch 2/10\n",
      "1125/1125 [==============================] - 142s 126ms/step - loss: 0.3240 - accuracy: 0.8604 - val_loss: 0.2439 - val_accuracy: 0.9012\n",
      "\n",
      "Epoch 00002: val_loss improved from 0.34125 to 0.24390, saving model to Designed_model_weights.hdf5\n",
      "Epoch 3/10\n",
      "1125/1125 [==============================] - 140s 124ms/step - loss: 0.2507 - accuracy: 0.8975 - val_loss: 0.2663 - val_accuracy: 0.8932\n",
      "\n",
      "Epoch 00003: val_loss did not improve from 0.24390\n",
      "Epoch 4/10\n",
      "1125/1125 [==============================] - 140s 125ms/step - loss: 0.2256 - accuracy: 0.9103 - val_loss: 0.2105 - val_accuracy: 0.9189\n",
      "\n",
      "Epoch 00004: val_loss improved from 0.24390 to 0.21050, saving model to Designed_model_weights.hdf5\n",
      "Epoch 5/10\n",
      "1125/1125 [==============================] - 141s 125ms/step - loss: 0.1941 - accuracy: 0.9244 - val_loss: 0.1831 - val_accuracy: 0.9312\n",
      "\n",
      "Epoch 00005: val_loss improved from 0.21050 to 0.18312, saving model to Designed_model_weights.hdf5\n",
      "Epoch 6/10\n",
      "1125/1125 [==============================] - 143s 127ms/step - loss: 0.1805 - accuracy: 0.9304 - val_loss: 0.1961 - val_accuracy: 0.9259\n",
      "\n",
      "Epoch 00006: val_loss did not improve from 0.18312\n",
      "Epoch 7/10\n",
      "1125/1125 [==============================] - 144s 128ms/step - loss: 0.1671 - accuracy: 0.9365 - val_loss: 0.1691 - val_accuracy: 0.9367\n",
      "\n",
      "Epoch 00007: val_loss improved from 0.18312 to 0.16911, saving model to Designed_model_weights.hdf5\n",
      "Epoch 8/10\n",
      "1125/1125 [==============================] - 142s 126ms/step - loss: 0.1591 - accuracy: 0.9399 - val_loss: 0.1739 - val_accuracy: 0.9361\n",
      "\n",
      "Epoch 00008: val_loss did not improve from 0.16911\n",
      "Epoch 9/10\n",
      "1125/1125 [==============================] - 138s 123ms/step - loss: 0.1452 - accuracy: 0.9456 - val_loss: 0.1608 - val_accuracy: 0.9415\n",
      "\n",
      "Epoch 00009: val_loss improved from 0.16911 to 0.16079, saving model to Designed_model_weights.hdf5\n",
      "Epoch 10/10\n",
      "1125/1125 [==============================] - 140s 124ms/step - loss: 0.1409 - accuracy: 0.9479 - val_loss: 0.1538 - val_accuracy: 0.9443\n",
      "\n",
      "Epoch 00010: val_loss improved from 0.16079 to 0.15379, saving model to Designed_model_weights.hdf5\n"
     ]
    }
   ],
   "source": [
    "train_des_model(designed,train_gen_des,val_gen_des,'Designed_model')"
   ]
  },
  {
   "cell_type": "markdown",
   "metadata": {},
   "source": [
    "### 3. Analysis of the two models"
   ]
  },
  {
   "cell_type": "markdown",
   "metadata": {},
   "source": [
    "First up load both of the models and the training and validation set, necessary for the analysis"
   ]
  },
  {
   "cell_type": "code",
   "execution_count": 2,
   "metadata": {},
   "outputs": [
    {
     "name": "stdout",
     "output_type": "stream",
     "text": [
      "Found 144000 images belonging to 2 classes.\n",
      "Found 16000 images belonging to 2 classes.\n",
      "Found 144000 images belonging to 2 classes.\n",
      "Found 16000 images belonging to 2 classes.\n"
     ]
    }
   ],
   "source": [
    "transfer_model = load_model('Transfer_model.json','Transfer_model_weights.hdf5')\n",
    "train_gen_ta, val_gen_ta = get_pcam_generators_transfer('data',train_batch_size=32,val_batch_size=32,shuffle=False)\n",
    "\n",
    "designed_model = load_model('Designed_model.json','Designed_model_weights.hdf5')\n",
    "train_gen_da, val_gen_da = get_pcam_generators_des('data',train_batch_size=128,val_batch_size=128)"
   ]
  },
  {
   "cell_type": "markdown",
   "metadata": {},
   "source": [
    "#### 3.1 Analysis of the transfer model"
   ]
  },
  {
   "cell_type": "code",
   "execution_count": 3,
   "metadata": {},
   "outputs": [
    {
     "name": "stderr",
     "output_type": "stream",
     "text": [
      "/home/8p361-lecturer/anaconda3/lib/python3.8/site-packages/tensorflow/python/keras/engine/training.py:1905: UserWarning: `Model.predict_generator` is deprecated and will be removed in a future version. Please use `Model.predict`, which supports generators.\n",
      "  warnings.warn('`Model.predict_generator` is deprecated and '\n",
      "The PostScript backend does not support transparency; partially transparent artists will be rendered opaque.\n",
      "The PostScript backend does not support transparency; partially transparent artists will be rendered opaque.\n"
     ]
    },
    {
     "data": {
      "image/png": "[encoded data removed]",
      "text/plain": [
       "<Figure size 432x288 with 1 Axes>"
      ]
     },
     "metadata": {
      "needs_background": "light"
     },
     "output_type": "display_data"
    },
    {
     "name": "stderr",
     "output_type": "stream",
     "text": [
      "/home/8p361-lecturer/anaconda3/lib/python3.8/site-packages/tensorflow/python/keras/engine/training.py:1905: UserWarning: `Model.predict_generator` is deprecated and will be removed in a future version. Please use `Model.predict`, which supports generators.\n",
      "  warnings.warn('`Model.predict_generator` is deprecated and '\n"
     ]
    },
    {
     "name": "stdout",
     "output_type": "stream",
     "text": [
      "Positive predictive value = 0.928375\n",
      "Negative predictive value = 0.928375\n"
     ]
    },
    {
     "data": {
      "image/png": "[encoded data removed]",
      "text/plain": [
       "<Figure size 432x288 with 2 Axes>"
      ]
     },
     "metadata": {
      "needs_background": "light"
     },
     "output_type": "display_data"
    }
   ],
   "source": [
    "opt_transfer = ROC_curve(transfer_model,val_gen_ta)\n",
    "analysis(transfer_model,val_gen_ta,opt_transfer)"
   ]
  },
  {
   "cell_type": "markdown",
   "metadata": {},
   "source": [
    "#### 3.2 Analysis of the designed model"
   ]
  },
  {
   "cell_type": "code",
   "execution_count": 4,
   "metadata": {},
   "outputs": [
    {
     "name": "stderr",
     "output_type": "stream",
     "text": [
      "The PostScript backend does not support transparency; partially transparent artists will be rendered opaque.\n",
      "The PostScript backend does not support transparency; partially transparent artists will be rendered opaque.\n"
     ]
    },
    {
     "data": {
      "image/png": "[encoded data removed]",
      "text/plain": [
       "<Figure size 432x288 with 1 Axes>"
      ]
     },
     "metadata": {
      "needs_background": "light"
     },
     "output_type": "display_data"
    },
    {
     "name": "stderr",
     "output_type": "stream",
     "text": [
      "/home/8p361-lecturer/anaconda3/lib/python3.8/site-packages/tensorflow/python/keras/engine/training.py:1905: UserWarning: `Model.predict_generator` is deprecated and will be removed in a future version. Please use `Model.predict`, which supports generators.\n",
      "  warnings.warn('`Model.predict_generator` is deprecated and '\n"
     ]
    },
    {
     "name": "stdout",
     "output_type": "stream",
     "text": [
      "Positive predictive value = 0.9455068116485439\n",
      "Negative predictive value = 0.9456182022752844\n"
     ]
    },
    {
     "data": {
      "image/png": "[encoded data removed]",
      "text/plain": [
       "<Figure size 432x288 with 2 Axes>"
      ]
     },
     "metadata": {
      "needs_background": "light"
     },
     "output_type": "display_data"
    }
   ],
   "source": [
    "opt_designed = ROC_curve(designed_model,val_gen_da)\n",
    "analysis(designed_model,val_gen_da,opt_designed)"
   ]
  }
 ],
 "metadata": {
  "kernelspec": {
   "display_name": "Python 3",
   "language": "python",
   "name": "python3"
  },
  "language_info": {
   "codemirror_mode": {
    "name": "ipython",
    "version": 3
   },
   "file_extension": ".py",
   "mimetype": "text/x-python",
   "name": "python",
   "nbconvert_exporter": "python",
   "pygments_lexer": "ipython3",
   "version": "3.8.5"
  }
 },
 "nbformat": 4,
 "nbformat_minor": 4
}
