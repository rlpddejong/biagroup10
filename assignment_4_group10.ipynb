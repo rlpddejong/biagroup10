{
 "cells": [
  {
   "cell_type": "markdown",
   "id": "grateful-mobility",
   "metadata": {},
   "source": [
    "# Assignment 4: Transfer learning\n",
    "\n",
    "Course: 8P361  &emsp;&emsp;  Group: 10\n",
    "\n",
    "Helgers, V.M.J. \t&emsp;&emsp; 1329332 <br>\n",
    "Jong, de R.L.P.D. \t&emsp; 1328328 <br>\n",
    "Korsten, T.\t\t    &emsp;&emsp;&emsp;&emsp; 1340522 <br>\n",
    "Moharir, S. \t\t&emsp;&emsp;&emsp;&emsp; 1296256 <br>\n",
    "\n"
   ]
  },
  {
   "cell_type": "markdown",
   "id": "employed-promotion",
   "metadata": {},
   "source": [
    "## Important notes\n",
    "\n",
    "1. Note that all functions needed to execute this notebook can be found in the transfer.py file. Therefore this notebook can only be executed with the use of this adjusted transfer.py file.\n",
    "\n",
    "2. If one wants to run this notebook it is important to add the right path to the image data within the function 'get_pcam_generators' which is called below."
   ]
  },
  {
   "cell_type": "markdown",
   "id": "artificial-olympus",
   "metadata": {},
   "source": [
    "## Exercise 2\n",
    "\n",
    "Run the example in `transfer.py`. Then, modify the code so that the MobileNetV2 model is not initialized from the ImageNet weights, but randomly (you can do that by setting the `weights` parameter to `None`). Analyze the results from both runs and compare them to the CNN example in assignment 3."
   ]
  },
  {
   "cell_type": "markdown",
   "id": "recognized-congo",
   "metadata": {},
   "source": [
    "### 2.1 Import the necessary functions"
   ]
  },
  {
   "cell_type": "code",
   "execution_count": 1,
   "id": "basic-decision",
   "metadata": {},
   "outputs": [],
   "source": [
    "from transfer import get_pcam_generators, get_model, train_model"
   ]
  },
  {
   "cell_type": "markdown",
   "id": "facial-lingerie",
   "metadata": {},
   "source": [
    "### 2.2 Get the models\n",
    "Get the models that need to be trained. Model 1 initialized by the ImageNet weights and model 2 being randomly initialized"
   ]
  },
  {
   "cell_type": "code",
   "execution_count": 2,
   "id": "possible-headquarters",
   "metadata": {},
   "outputs": [
    {
     "name": "stdout",
     "output_type": "stream",
     "text": [
      "Model: \"model\"\n",
      "_________________________________________________________________\n",
      "Layer (type)                 Output Shape              Param #   \n",
      "=================================================================\n",
      "input_1 (InputLayer)         [(None, 96, 96, 3)]       0         \n",
      "_________________________________________________________________\n",
      "mobilenetv2_1.00_96 (Functio (None, 3, 3, 1280)        2257984   \n",
      "_________________________________________________________________\n",
      "global_average_pooling2d (Gl (None, 1280)              0         \n",
      "_________________________________________________________________\n",
      "dropout (Dropout)            (None, 1280)              0         \n",
      "_________________________________________________________________\n",
      "dense (Dense)                (None, 1)                 1281      \n",
      "=================================================================\n",
      "Total params: 2,259,265\n",
      "Trainable params: 2,225,153\n",
      "Non-trainable params: 34,112\n",
      "_________________________________________________________________\n",
      "Model: \"model_1\"\n",
      "_________________________________________________________________\n",
      "Layer (type)                 Output Shape              Param #   \n",
      "=================================================================\n",
      "input_3 (InputLayer)         [(None, 96, 96, 3)]       0         \n",
      "_________________________________________________________________\n",
      "mobilenetv2_1.00_96 (Functio (None, 3, 3, 1280)        2257984   \n",
      "_________________________________________________________________\n",
      "global_average_pooling2d_1 ( (None, 1280)              0         \n",
      "_________________________________________________________________\n",
      "dropout_1 (Dropout)          (None, 1280)              0         \n",
      "_________________________________________________________________\n",
      "dense_1 (Dense)              (None, 1)                 1281      \n",
      "=================================================================\n",
      "Total params: 2,259,265\n",
      "Trainable params: 2,225,153\n",
      "Non-trainable params: 34,112\n",
      "_________________________________________________________________\n"
     ]
    }
   ],
   "source": [
    "model = get_model('imagenet')\n",
    "model2 = get_model(None)"
   ]
  },
  {
   "cell_type": "markdown",
   "id": "qualified-shark",
   "metadata": {},
   "source": [
    "### 2.3 Get the data generators"
   ]
  },
  {
   "cell_type": "code",
   "execution_count": 2,
   "id": "soviet-clear",
   "metadata": {},
   "outputs": [
    {
     "name": "stdout",
     "output_type": "stream",
     "text": [
      "Found 144000 images belonging to 2 classes.\n",
      "Found 16000 images belonging to 2 classes.\n"
     ]
    }
   ],
   "source": [
    "train_gen, val_gen = get_pcam_generators('C:/Users/20182372/Documents/TUE/Jaar 3 BMT/Kwartiel 3/Project Imaging/BIA Data')"
   ]
  },
  {
   "cell_type": "markdown",
   "id": "miniature-consent",
   "metadata": {},
   "source": [
    "### 2.4 Training the models\n",
    "The imputs for the training function are the model to be trained, the generated training and validation sets, and the name of the model."
   ]
  },
  {
   "cell_type": "code",
   "execution_count": 4,
   "id": "thrown-notion",
   "metadata": {},
   "outputs": [
    {
     "name": "stderr",
     "output_type": "stream",
     "text": [
      "C:\\Users\\20182372\\Anaconda3\\envs\\BIA\\lib\\site-packages\\tensorflow\\python\\keras\\engine\\training.py:1844: UserWarning: `Model.fit_generator` is deprecated and will be removed in a future version. Please use `Model.fit`, which supports generators.\n",
      "  warnings.warn('`Model.fit_generator` is deprecated and '\n"
     ]
    },
    {
     "name": "stdout",
     "output_type": "stream",
     "text": [
      "Epoch 1/10\n",
      "225/225 [==============================] - 564s 2s/step - loss: 0.5878 - accuracy: 0.7341 - val_loss: 0.9538 - val_accuracy: 0.6237\n",
      "\n",
      "Epoch 00001: val_loss improved from inf to 0.95381, saving model to transfer_imagenet_weights.hdf5\n",
      "Epoch 2/10\n",
      "225/225 [==============================] - 536s 2s/step - loss: 0.3409 - accuracy: 0.8521 - val_loss: 0.9278 - val_accuracy: 0.6187\n",
      "\n",
      "Epoch 00002: val_loss improved from 0.95381 to 0.92779, saving model to transfer_imagenet_weights.hdf5\n",
      "Epoch 3/10\n",
      "225/225 [==============================] - 537s 2s/step - loss: 0.2938 - accuracy: 0.8771 - val_loss: 1.6844 - val_accuracy: 0.5813\n",
      "\n",
      "Epoch 00003: val_loss did not improve from 0.92779\n",
      "Epoch 4/10\n",
      "225/225 [==============================] - 570s 3s/step - loss: 0.2924 - accuracy: 0.8784 - val_loss: 0.3790 - val_accuracy: 0.8763\n",
      "\n",
      "Epoch 00004: val_loss improved from 0.92779 to 0.37899, saving model to transfer_imagenet_weights.hdf5\n",
      "Epoch 5/10\n",
      "225/225 [==============================] - 574s 3s/step - loss: 0.2815 - accuracy: 0.8857 - val_loss: 0.6530 - val_accuracy: 0.8138\n",
      "\n",
      "Epoch 00005: val_loss did not improve from 0.37899\n",
      "Epoch 6/10\n",
      "225/225 [==============================] - 582s 3s/step - loss: 0.2460 - accuracy: 0.9018 - val_loss: 0.3936 - val_accuracy: 0.8450\n",
      "\n",
      "Epoch 00006: val_loss did not improve from 0.37899\n",
      "Epoch 7/10\n",
      "225/225 [==============================] - 615s 3s/step - loss: 0.2548 - accuracy: 0.9013 - val_loss: 0.3761 - val_accuracy: 0.8775\n",
      "\n",
      "Epoch 00007: val_loss improved from 0.37899 to 0.37605, saving model to transfer_imagenet_weights.hdf5\n",
      "Epoch 8/10\n",
      "225/225 [==============================] - 609s 3s/step - loss: 0.2414 - accuracy: 0.9028 - val_loss: 0.3414 - val_accuracy: 0.8788\n",
      "\n",
      "Epoch 00008: val_loss improved from 0.37605 to 0.34143, saving model to transfer_imagenet_weights.hdf5\n",
      "Epoch 9/10\n",
      "225/225 [==============================] - 625s 3s/step - loss: 0.2299 - accuracy: 0.9096 - val_loss: 0.4666 - val_accuracy: 0.8425\n",
      "\n",
      "Epoch 00009: val_loss did not improve from 0.34143\n",
      "Epoch 10/10\n",
      "225/225 [==============================] - 585s 3s/step - loss: 0.2145 - accuracy: 0.9154 - val_loss: 0.2727 - val_accuracy: 0.9013\n",
      "\n",
      "Epoch 00010: val_loss improved from 0.34143 to 0.27273, saving model to transfer_imagenet_weights.hdf5\n"
     ]
    }
   ],
   "source": [
    "train_model(model,train_gen,val_gen,'transfer_imagenet')"
   ]
  },
  {
   "cell_type": "code",
   "execution_count": 7,
   "id": "daily-difference",
   "metadata": {},
   "outputs": [
    {
     "name": "stdout",
     "output_type": "stream",
     "text": [
      "Epoch 1/10\n",
      "225/225 [==============================] - 236s 1s/step - loss: 0.4807 - accuracy: 0.7756 - val_loss: 0.6968 - val_accuracy: 0.4925\n",
      "\n",
      "Epoch 00001: val_loss improved from inf to 0.69676, saving model to my_first_transfer_model_weights.hdf5\n",
      "Epoch 2/10\n",
      "225/225 [==============================] - 233s 1s/step - loss: 0.4512 - accuracy: 0.7971 - val_loss: 0.6953 - val_accuracy: 0.4913\n",
      "\n",
      "Epoch 00002: val_loss improved from 0.69676 to 0.69534, saving model to my_first_transfer_model_weights.hdf5\n",
      "Epoch 3/10\n",
      "225/225 [==============================] - 308s 1s/step - loss: 0.4239 - accuracy: 0.8092 - val_loss: 0.6966 - val_accuracy: 0.5063\n",
      "\n",
      "Epoch 00003: val_loss did not improve from 0.69534\n",
      "Epoch 4/10\n",
      "225/225 [==============================] - 262s 1s/step - loss: 0.4175 - accuracy: 0.8151 - val_loss: 0.7013 - val_accuracy: 0.4550\n",
      "\n",
      "Epoch 00004: val_loss did not improve from 0.69534\n",
      "Epoch 5/10\n",
      "225/225 [==============================] - 231s 1s/step - loss: 0.4043 - accuracy: 0.8219 - val_loss: 0.7067 - val_accuracy: 0.4875\n",
      "\n",
      "Epoch 00005: val_loss did not improve from 0.69534\n",
      "Epoch 6/10\n",
      "225/225 [==============================] - 232s 1s/step - loss: 0.4056 - accuracy: 0.8204 - val_loss: 0.6989 - val_accuracy: 0.4888\n",
      "\n",
      "Epoch 00006: val_loss did not improve from 0.69534\n",
      "Epoch 7/10\n",
      "225/225 [==============================] - 230s 1s/step - loss: 0.3851 - accuracy: 0.8326 - val_loss: 0.6931 - val_accuracy: 0.5088\n",
      "\n",
      "Epoch 00007: val_loss improved from 0.69534 to 0.69307, saving model to my_first_transfer_model_weights.hdf5\n",
      "Epoch 8/10\n",
      "225/225 [==============================] - 937s 4s/step - loss: 0.3726 - accuracy: 0.8357 - val_loss: 0.6965 - val_accuracy: 0.4863\n",
      "\n",
      "Epoch 00008: val_loss did not improve from 0.69307\n",
      "Epoch 9/10\n",
      "225/225 [==============================] - 236s 1s/step - loss: 0.3723 - accuracy: 0.8331 - val_loss: 0.6928 - val_accuracy: 0.5175\n",
      "\n",
      "Epoch 00009: val_loss improved from 0.69307 to 0.69275, saving model to my_first_transfer_model_weights.hdf5\n",
      "Epoch 10/10\n",
      "225/225 [==============================] - 227s 1s/step - loss: 0.3811 - accuracy: 0.8336 - val_loss: 0.6974 - val_accuracy: 0.4688\n",
      "\n",
      "Epoch 00010: val_loss did not improve from 0.69275\n"
     ]
    }
   ],
   "source": [
    "train_model(model2,train_gen,val_gen,'transfer_random')"
   ]
  },
  {
   "cell_type": "markdown",
   "id": "individual-universal",
   "metadata": {},
   "source": [
    "## Exercise 3\n",
    "\n",
    "The model in `transfer.py` uses a dropout layer. How does dropout work and what is the effect of adding dropout layers the the network architecture? What is the observed effect when removing the dropout layer from this model? Hint: check out the Keras documentation for this layer."
   ]
  },
  {
   "cell_type": "markdown",
   "id": "divided-context",
   "metadata": {},
   "source": [
    "### 3.1 Get the model without the dropout layer\n",
    "The input required for leaving out the dropout layer is 'No', the default value is 'Yes', so by default there will be a dropout layer present in the model."
   ]
  },
  {
   "cell_type": "code",
   "execution_count": 3,
   "id": "entertaining-shopping",
   "metadata": {},
   "outputs": [
    {
     "name": "stdout",
     "output_type": "stream",
     "text": [
      "Model: \"model\"\n",
      "_________________________________________________________________\n",
      "Layer (type)                 Output Shape              Param #   \n",
      "=================================================================\n",
      "input_1 (InputLayer)         [(None, 96, 96, 3)]       0         \n",
      "_________________________________________________________________\n",
      "mobilenetv2_1.00_96 (Functio (None, 3, 3, 1280)        2257984   \n",
      "_________________________________________________________________\n",
      "global_average_pooling2d (Gl (None, 1280)              0         \n",
      "_________________________________________________________________\n",
      "dense (Dense)                (None, 1)                 1281      \n",
      "=================================================================\n",
      "Total params: 2,259,265\n",
      "Trainable params: 2,225,153\n",
      "Non-trainable params: 34,112\n",
      "_________________________________________________________________\n"
     ]
    }
   ],
   "source": [
    "model3 = get_model('imagenet','No')"
   ]
  },
  {
   "cell_type": "markdown",
   "id": "cardiovascular-craps",
   "metadata": {},
   "source": [
    "### 3.2 Train the model"
   ]
  },
  {
   "cell_type": "code",
   "execution_count": 4,
   "id": "sealed-beatles",
   "metadata": {},
   "outputs": [
    {
     "name": "stderr",
     "output_type": "stream",
     "text": [
      "C:\\Users\\20182372\\Anaconda3\\envs\\BIA\\lib\\site-packages\\tensorflow\\python\\keras\\engine\\training.py:1844: UserWarning: `Model.fit_generator` is deprecated and will be removed in a future version. Please use `Model.fit`, which supports generators.\n",
      "  warnings.warn('`Model.fit_generator` is deprecated and '\n"
     ]
    },
    {
     "name": "stdout",
     "output_type": "stream",
     "text": [
      "Epoch 1/10\n",
      "225/225 [==============================] - 267s 1s/step - loss: 0.4859 - accuracy: 0.7602 - val_loss: 1.0621 - val_accuracy: 0.5950\n",
      "\n",
      "Epoch 00001: val_loss improved from inf to 1.06206, saving model to No_dropout_transfer_weights.hdf5\n",
      "Epoch 2/10\n",
      "225/225 [==============================] - 236s 1s/step - loss: 0.3195 - accuracy: 0.8610 - val_loss: 0.9026 - val_accuracy: 0.6350\n",
      "\n",
      "Epoch 00002: val_loss improved from 1.06206 to 0.90258, saving model to No_dropout_transfer_weights.hdf5\n",
      "Epoch 3/10\n",
      "225/225 [==============================] - 238s 1s/step - loss: 0.2685 - accuracy: 0.8897 - val_loss: 0.7994 - val_accuracy: 0.7200\n",
      "\n",
      "Epoch 00003: val_loss improved from 0.90258 to 0.79945, saving model to No_dropout_transfer_weights.hdf5\n",
      "Epoch 4/10\n",
      "225/225 [==============================] - 238s 1s/step - loss: 0.2534 - accuracy: 0.8931 - val_loss: 0.4005 - val_accuracy: 0.8350\n",
      "\n",
      "Epoch 00004: val_loss improved from 0.79945 to 0.40049, saving model to No_dropout_transfer_weights.hdf5\n",
      "Epoch 5/10\n",
      "225/225 [==============================] - 267s 1s/step - loss: 0.2545 - accuracy: 0.8975 - val_loss: 0.5800 - val_accuracy: 0.7850\n",
      "\n",
      "Epoch 00005: val_loss did not improve from 0.40049\n",
      "Epoch 6/10\n",
      "225/225 [==============================] - 362s 2s/step - loss: 0.2419 - accuracy: 0.9020 - val_loss: 0.6691 - val_accuracy: 0.7688\n",
      "\n",
      "Epoch 00006: val_loss did not improve from 0.40049\n",
      "Epoch 7/10\n",
      "225/225 [==============================] - 548s 2s/step - loss: 0.2361 - accuracy: 0.9058 - val_loss: 0.5935 - val_accuracy: 0.7925\n",
      "\n",
      "Epoch 00007: val_loss did not improve from 0.40049\n",
      "Epoch 8/10\n",
      "225/225 [==============================] - 549s 2s/step - loss: 0.2150 - accuracy: 0.9169 - val_loss: 0.4600 - val_accuracy: 0.8550\n",
      "\n",
      "Epoch 00008: val_loss did not improve from 0.40049\n",
      "Epoch 9/10\n",
      "225/225 [==============================] - 541s 2s/step - loss: 0.1931 - accuracy: 0.9243 - val_loss: 0.6886 - val_accuracy: 0.8125\n",
      "\n",
      "Epoch 00009: val_loss did not improve from 0.40049\n",
      "Epoch 10/10\n",
      "225/225 [==============================] - 540s 2s/step - loss: 0.1857 - accuracy: 0.9255 - val_loss: 0.4192 - val_accuracy: 0.8400\n",
      "\n",
      "Epoch 00010: val_loss did not improve from 0.40049\n"
     ]
    }
   ],
   "source": [
    "train_model(model3,train_gen,val_gen,'No_dropout_transfer')"
   ]
  }
 ],
 "metadata": {
  "kernelspec": {
   "display_name": "Python 3",
   "language": "python",
   "name": "python3"
  },
  "language_info": {
   "codemirror_mode": {
    "name": "ipython",
    "version": 3
   },
   "file_extension": ".py",
   "mimetype": "text/x-python",
   "name": "python",
   "nbconvert_exporter": "python",
   "pygments_lexer": "ipython3",
   "version": "3.8.5"
  }
 },
 "nbformat": 4,
 "nbformat_minor": 5
}
