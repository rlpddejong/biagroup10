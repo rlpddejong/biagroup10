{
 "cells": [
  {
   "cell_type": "markdown",
   "id": "grateful-mobility",
   "metadata": {},
   "source": [
    "# Assignment 4: Transfer learning\n",
    "\n",
    "Course: 8P361  &emsp;&emsp;  Group: 10\n",
    "\n",
    "Helgers, V.M.J. \t&emsp;&emsp; 1329332 <br>\n",
    "Jong, de R.L.P.D. \t&emsp; 1328328 <br>\n",
    "Korsten, T.\t\t    &emsp;&emsp;&emsp;&emsp; 1340522 <br>\n",
    "Moharir, S. \t\t&emsp;&emsp;&emsp;&emsp; 1296256 <br>\n",
    "\n"
   ]
  },
  {
   "cell_type": "code",
   "execution_count": 1,
   "id": "rubber-sullivan",
   "metadata": {},
   "outputs": [],
   "source": [
    "from transfer import get_pcam_generators, get_model, train_model"
   ]
  },
  {
   "cell_type": "code",
   "execution_count": 4,
   "id": "possible-headquarters",
   "metadata": {},
   "outputs": [
    {
     "name": "stdout",
     "output_type": "stream",
     "text": [
      "Model: \"model_1\"\n",
      "_________________________________________________________________\n",
      "Layer (type)                 Output Shape              Param #   \n",
      "=================================================================\n",
      "input_3 (InputLayer)         [(None, 96, 96, 3)]       0         \n",
      "_________________________________________________________________\n",
      "mobilenetv2_1.00_96 (Functio (None, 3, 3, 1280)        2257984   \n",
      "_________________________________________________________________\n",
      "global_average_pooling2d_1 ( (None, 1280)              0         \n",
      "_________________________________________________________________\n",
      "dropout_1 (Dropout)          (None, 1280)              0         \n",
      "_________________________________________________________________\n",
      "dense_1 (Dense)              (None, 1)                 1281      \n",
      "=================================================================\n",
      "Total params: 2,259,265\n",
      "Trainable params: 2,225,153\n",
      "Non-trainable params: 34,112\n",
      "_________________________________________________________________\n",
      "Model: \"model_2\"\n",
      "_________________________________________________________________\n",
      "Layer (type)                 Output Shape              Param #   \n",
      "=================================================================\n",
      "input_5 (InputLayer)         [(None, 96, 96, 3)]       0         \n",
      "_________________________________________________________________\n",
      "mobilenetv2_1.00_96 (Functio (None, 3, 3, 1280)        2257984   \n",
      "_________________________________________________________________\n",
      "global_average_pooling2d_2 ( (None, 1280)              0         \n",
      "_________________________________________________________________\n",
      "dropout_2 (Dropout)          (None, 1280)              0         \n",
      "_________________________________________________________________\n",
      "dense_2 (Dense)              (None, 1)                 1281      \n",
      "=================================================================\n",
      "Total params: 2,259,265\n",
      "Trainable params: 2,225,153\n",
      "Non-trainable params: 34,112\n",
      "_________________________________________________________________\n"
     ]
    }
   ],
   "source": [
    "model = get_model('imagenet')\n",
    "model2 = get_model(None)"
   ]
  },
  {
   "cell_type": "code",
   "execution_count": 3,
   "id": "great-mystery",
   "metadata": {},
   "outputs": [
    {
     "name": "stdout",
     "output_type": "stream",
     "text": [
      "Found 144000 images belonging to 2 classes.\n",
      "Found 16000 images belonging to 2 classes.\n"
     ]
    }
   ],
   "source": [
    "# get the data generators\n",
    "train_gen, val_gen = get_pcam_generators('C:/Users/20182372/Documents/TUE/Jaar 3 BMT/Kwartiel 3/Project Imaging/BIA Data')"
   ]
  },
  {
   "cell_type": "code",
   "execution_count": 6,
   "id": "interpreted-delicious",
   "metadata": {},
   "outputs": [
    {
     "name": "stdout",
     "output_type": "stream",
     "text": [
      "Epoch 1/10\n",
      "225/225 [==============================] - 694s 3s/step - loss: 0.5458 - accuracy: 0.7512 - val_loss: 2.3019 - val_accuracy: 0.5250\n",
      "\n",
      "Epoch 00001: val_loss improved from inf to 2.30186, saving model to my_first_transfer_model_weights.hdf5\n",
      "Epoch 2/10\n",
      "225/225 [==============================] - 647s 3s/step - loss: 0.3711 - accuracy: 0.8405 - val_loss: 2.4524 - val_accuracy: 0.5400\n",
      "\n",
      "Epoch 00002: val_loss did not improve from 2.30186\n",
      "Epoch 3/10\n",
      "225/225 [==============================] - 416s 2s/step - loss: 0.3054 - accuracy: 0.8761 - val_loss: 1.2221 - val_accuracy: 0.7163\n",
      "\n",
      "Epoch 00003: val_loss improved from 2.30186 to 1.22209, saving model to my_first_transfer_model_weights.hdf5\n",
      "Epoch 4/10\n",
      "225/225 [==============================] - 233s 1s/step - loss: 0.2832 - accuracy: 0.8887 - val_loss: 0.5602 - val_accuracy: 0.8537\n",
      "\n",
      "Epoch 00004: val_loss improved from 1.22209 to 0.56021, saving model to my_first_transfer_model_weights.hdf5\n",
      "Epoch 5/10\n",
      "225/225 [==============================] - 272s 1s/step - loss: 0.2683 - accuracy: 0.8956 - val_loss: 0.3377 - val_accuracy: 0.8800\n",
      "\n",
      "Epoch 00005: val_loss improved from 0.56021 to 0.33769, saving model to my_first_transfer_model_weights.hdf5\n",
      "Epoch 6/10\n",
      "225/225 [==============================] - 296s 1s/step - loss: 0.2532 - accuracy: 0.9059 - val_loss: 0.3035 - val_accuracy: 0.8775\n",
      "\n",
      "Epoch 00006: val_loss improved from 0.33769 to 0.30355, saving model to my_first_transfer_model_weights.hdf5\n",
      "Epoch 7/10\n",
      "225/225 [==============================] - 228s 1s/step - loss: 0.2107 - accuracy: 0.9165 - val_loss: 0.4079 - val_accuracy: 0.8462\n",
      "\n",
      "Epoch 00007: val_loss did not improve from 0.30355\n",
      "Epoch 8/10\n",
      "225/225 [==============================] - 229s 1s/step - loss: 0.2163 - accuracy: 0.9168 - val_loss: 0.3578 - val_accuracy: 0.8500\n",
      "\n",
      "Epoch 00008: val_loss did not improve from 0.30355\n",
      "Epoch 9/10\n",
      "225/225 [==============================] - 228s 1s/step - loss: 0.2154 - accuracy: 0.9237 - val_loss: 0.2425 - val_accuracy: 0.9013\n",
      "\n",
      "Epoch 00009: val_loss improved from 0.30355 to 0.24248, saving model to my_first_transfer_model_weights.hdf5\n",
      "Epoch 10/10\n",
      "225/225 [==============================] - 229s 1s/step - loss: 0.2099 - accuracy: 0.9178 - val_loss: 0.3416 - val_accuracy: 0.8700\n",
      "\n",
      "Epoch 00010: val_loss did not improve from 0.24248\n"
     ]
    }
   ],
   "source": [
    "# train the model\n",
    "train_model(model,train_gen,val_gen)"
   ]
  },
  {
   "cell_type": "code",
   "execution_count": 7,
   "id": "focused-riding",
   "metadata": {},
   "outputs": [
    {
     "name": "stdout",
     "output_type": "stream",
     "text": [
      "Epoch 1/10\n",
      "225/225 [==============================] - 236s 1s/step - loss: 0.4807 - accuracy: 0.7756 - val_loss: 0.6968 - val_accuracy: 0.4925\n",
      "\n",
      "Epoch 00001: val_loss improved from inf to 0.69676, saving model to my_first_transfer_model_weights.hdf5\n",
      "Epoch 2/10\n",
      "225/225 [==============================] - 233s 1s/step - loss: 0.4512 - accuracy: 0.7971 - val_loss: 0.6953 - val_accuracy: 0.4913\n",
      "\n",
      "Epoch 00002: val_loss improved from 0.69676 to 0.69534, saving model to my_first_transfer_model_weights.hdf5\n",
      "Epoch 3/10\n",
      "225/225 [==============================] - 308s 1s/step - loss: 0.4239 - accuracy: 0.8092 - val_loss: 0.6966 - val_accuracy: 0.5063\n",
      "\n",
      "Epoch 00003: val_loss did not improve from 0.69534\n",
      "Epoch 4/10\n",
      "225/225 [==============================] - 262s 1s/step - loss: 0.4175 - accuracy: 0.8151 - val_loss: 0.7013 - val_accuracy: 0.4550\n",
      "\n",
      "Epoch 00004: val_loss did not improve from 0.69534\n",
      "Epoch 5/10\n",
      "225/225 [==============================] - 231s 1s/step - loss: 0.4043 - accuracy: 0.8219 - val_loss: 0.7067 - val_accuracy: 0.4875\n",
      "\n",
      "Epoch 00005: val_loss did not improve from 0.69534\n",
      "Epoch 6/10\n",
      "225/225 [==============================] - 232s 1s/step - loss: 0.4056 - accuracy: 0.8204 - val_loss: 0.6989 - val_accuracy: 0.4888\n",
      "\n",
      "Epoch 00006: val_loss did not improve from 0.69534\n",
      "Epoch 7/10\n",
      "225/225 [==============================] - 230s 1s/step - loss: 0.3851 - accuracy: 0.8326 - val_loss: 0.6931 - val_accuracy: 0.5088\n",
      "\n",
      "Epoch 00007: val_loss improved from 0.69534 to 0.69307, saving model to my_first_transfer_model_weights.hdf5\n",
      "Epoch 8/10\n",
      "225/225 [==============================] - 937s 4s/step - loss: 0.3726 - accuracy: 0.8357 - val_loss: 0.6965 - val_accuracy: 0.4863\n",
      "\n",
      "Epoch 00008: val_loss did not improve from 0.69307\n",
      "Epoch 9/10\n",
      "225/225 [==============================] - 236s 1s/step - loss: 0.3723 - accuracy: 0.8331 - val_loss: 0.6928 - val_accuracy: 0.5175\n",
      "\n",
      "Epoch 00009: val_loss improved from 0.69307 to 0.69275, saving model to my_first_transfer_model_weights.hdf5\n",
      "Epoch 10/10\n",
      "225/225 [==============================] - 227s 1s/step - loss: 0.3811 - accuracy: 0.8336 - val_loss: 0.6974 - val_accuracy: 0.4688\n",
      "\n",
      "Epoch 00010: val_loss did not improve from 0.69275\n"
     ]
    }
   ],
   "source": [
    "train_model(model2,train_gen,val_gen)"
   ]
  }
 ],
 "metadata": {
  "kernelspec": {
   "display_name": "Python 3",
   "language": "python",
   "name": "python3"
  },
  "language_info": {
   "codemirror_mode": {
    "name": "ipython",
    "version": 3
   },
   "file_extension": ".py",
   "mimetype": "text/x-python",
   "name": "python",
   "nbconvert_exporter": "python",
   "pygments_lexer": "ipython3",
   "version": "3.8.5"
  }
 },
 "nbformat": 4,
 "nbformat_minor": 5
}
