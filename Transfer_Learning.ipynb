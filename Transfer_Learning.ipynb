{
 "cells": [
  {
   "cell_type": "markdown",
   "metadata": {},
   "source": [
    "# Main Project: Transfer learning\n",
    "\n",
    "Course: 8P361  &emsp;&emsp;  Group: 10\n",
    "\n",
    "Helgers, V.M.J. &nbsp;&emsp;&emsp; 1329332 <br>\n",
    "Jong, de R.L.P.D. &nbsp;&nbsp;&emsp; 1328328 <br>\n",
    "Korsten, T. &nbsp;&nbsp;&nbsp;&nbsp;&emsp;&emsp;&emsp; 1340522 <br>\n",
    "Moharir, S. &emsp;&emsp;&emsp;&emsp; 1296256 <br>\n",
    "\n"
   ]
  },
  {
   "cell_type": "markdown",
   "metadata": {},
   "source": [
    "## Important notes\n",
    "\n",
    "1. Note that all functions needed to execute this notebook can be found in the transfer.py file. Therefore this notebook can only be executed with the use of this adjusted transfer.py file.\n",
    "\n",
    "2. If one wants to run this notebook it is important to add the right path to the image data within the function 'get_pcam_generators' which is called below."
   ]
  },
  {
   "cell_type": "markdown",
   "metadata": {},
   "source": [
    "### 2.1 Import the necessary functions"
   ]
  },
  {
   "cell_type": "code",
   "execution_count": 5,
   "metadata": {},
   "outputs": [],
   "source": [
    "#https://towardsdatascience.com/deep-learning-using-transfer-learning-python-code-for-resnet50-8acdfb3a2d38\n",
    "from transfer_learning import get_pcam_generators, get_model, train_model"
   ]
  },
  {
   "cell_type": "markdown",
   "metadata": {},
   "source": [
    "### 2.2 Get the models\n",
    "Get the models that need to be trained. Model 1 initialized by the ImageNet weights and model 2 being randomly initialized"
   ]
  },
  {
   "cell_type": "code",
   "execution_count": 6,
   "metadata": {},
   "outputs": [
    {
     "name": "stdout",
     "output_type": "stream",
     "text": [
      "Model: \"model_1\"\n",
      "_________________________________________________________________\n",
      "Layer (type)                 Output Shape              Param #   \n",
      "=================================================================\n",
      "input_3 (InputLayer)         [(None, 96, 96, 3)]       0         \n",
      "_________________________________________________________________\n",
      "resnet50 (Functional)        (None, 3, 3, 2048)        23587712  \n",
      "_________________________________________________________________\n",
      "global_average_pooling2d_1 ( (None, 2048)              0         \n",
      "_________________________________________________________________\n",
      "dropout_1 (Dropout)          (None, 2048)              0         \n",
      "_________________________________________________________________\n",
      "dense_1 (Dense)              (None, 1)                 2049      \n",
      "=================================================================\n",
      "Total params: 23,589,761\n",
      "Trainable params: 23,536,641\n",
      "Non-trainable params: 53,120\n",
      "_________________________________________________________________\n"
     ]
    }
   ],
   "source": [
    "model = get_model('imagenet')\n",
    "#model2 = get_model(None)"
   ]
  },
  {
   "cell_type": "markdown",
   "metadata": {},
   "source": [
    "### 2.3 Get the data generators"
   ]
  },
  {
   "cell_type": "code",
   "execution_count": 7,
   "metadata": {},
   "outputs": [
    {
     "name": "stdout",
     "output_type": "stream",
     "text": [
      "Found 144000 images belonging to 2 classes.\n",
      "Found 16000 images belonging to 2 classes.\n"
     ]
    }
   ],
   "source": [
    "train_gen, val_gen = get_pcam_generators('data')"
   ]
  },
  {
   "cell_type": "markdown",
   "metadata": {},
   "source": [
    "### 2.4 Training the models\n",
    "The imputs for the training function are the model to be trained, the generated training and validation sets, and the name of the model."
   ]
  },
  {
   "cell_type": "code",
   "execution_count": 8,
   "metadata": {},
   "outputs": [
    {
     "name": "stdout",
     "output_type": "stream",
     "text": [
      "Epoch 1/10\n",
      "225/225 [==============================] - 40s 144ms/step - loss: 0.5698 - accuracy: 0.7446 - val_loss: 1.5763 - val_accuracy: 0.5075\n",
      "\n",
      "Epoch 00001: val_loss improved from inf to 1.57635, saving model to transfer_imagenet_weights.hdf5\n",
      "Epoch 2/10\n",
      "225/225 [==============================] - 28s 124ms/step - loss: 0.3631 - accuracy: 0.8623 - val_loss: 0.9617 - val_accuracy: 0.4638\n",
      "\n",
      "Epoch 00002: val_loss improved from 1.57635 to 0.96174, saving model to transfer_imagenet_weights.hdf5\n",
      "Epoch 3/10\n",
      "225/225 [==============================] - 26s 117ms/step - loss: 0.3017 - accuracy: 0.8827 - val_loss: 1.3403 - val_accuracy: 0.7312\n",
      "\n",
      "Epoch 00003: val_loss did not improve from 0.96174\n",
      "Epoch 4/10\n",
      "225/225 [==============================] - 26s 116ms/step - loss: 0.2670 - accuracy: 0.9000 - val_loss: 1.1583 - val_accuracy: 0.7163\n",
      "\n",
      "Epoch 00004: val_loss did not improve from 0.96174\n",
      "Epoch 5/10\n",
      "225/225 [==============================] - 28s 124ms/step - loss: 0.2360 - accuracy: 0.9035 - val_loss: 0.2759 - val_accuracy: 0.8913\n",
      "\n",
      "Epoch 00005: val_loss improved from 0.96174 to 0.27587, saving model to transfer_imagenet_weights.hdf5\n",
      "Epoch 6/10\n",
      "225/225 [==============================] - 28s 124ms/step - loss: 0.2188 - accuracy: 0.9115 - val_loss: 0.2344 - val_accuracy: 0.9137\n",
      "\n",
      "Epoch 00006: val_loss improved from 0.27587 to 0.23443, saving model to transfer_imagenet_weights.hdf5\n",
      "Epoch 7/10\n",
      "225/225 [==============================] - 28s 124ms/step - loss: 0.2098 - accuracy: 0.9182 - val_loss: 0.2339 - val_accuracy: 0.9112\n",
      "\n",
      "Epoch 00007: val_loss improved from 0.23443 to 0.23391, saving model to transfer_imagenet_weights.hdf5\n",
      "Epoch 8/10\n",
      "225/225 [==============================] - 28s 124ms/step - loss: 0.2039 - accuracy: 0.9207 - val_loss: 0.2244 - val_accuracy: 0.9137\n",
      "\n",
      "Epoch 00008: val_loss improved from 0.23391 to 0.22438, saving model to transfer_imagenet_weights.hdf5\n",
      "Epoch 9/10\n",
      "225/225 [==============================] - 28s 124ms/step - loss: 0.2105 - accuracy: 0.9210 - val_loss: 0.1875 - val_accuracy: 0.9212\n",
      "\n",
      "Epoch 00009: val_loss improved from 0.22438 to 0.18751, saving model to transfer_imagenet_weights.hdf5\n",
      "Epoch 10/10\n",
      "225/225 [==============================] - 25s 109ms/step - loss: 0.1937 - accuracy: 0.9266 - val_loss: 0.1531 - val_accuracy: 0.9450\n",
      "\n",
      "Epoch 00010: val_loss improved from 0.18751 to 0.15314, saving model to transfer_imagenet_weights.hdf5\n"
     ]
    }
   ],
   "source": [
    "train_model(model,train_gen,val_gen,'transfer_imagenet')"
   ]
  },
  {
   "cell_type": "code",
   "execution_count": 2,
   "metadata": {},
   "outputs": [],
   "source": [
    "from Analysis import ROC_curve, analysis"
   ]
  },
  {
   "cell_type": "code",
   "execution_count": 3,
   "metadata": {},
   "outputs": [
    {
     "name": "stdout",
     "output_type": "stream",
     "text": [
      "Loaded model from disk\n"
     ]
    }
   ],
   "source": [
    "from tensorflow.keras.models import Sequential, model_from_json\n",
    "json_file = open('transfer_imagenet.json','r')\n",
    "loaded_model_json = json_file.read()\n",
    "json_file.close()\n",
    "loaded_model = model_from_json(loaded_model_json)\n",
    "loaded_model.load_weights(\"transfer_imagenet_weights.hdf5\")\n",
    "print(\"Loaded model from disk\")"
   ]
  },
  {
   "cell_type": "code",
   "execution_count": 4,
   "metadata": {},
   "outputs": [
    {
     "name": "stdout",
     "output_type": "stream",
     "text": [
      "Found 144000 images belonging to 2 classes.\n",
      "Found 16000 images belonging to 2 classes.\n"
     ]
    }
   ],
   "source": [
    "train_genF, val_genF = get_pcam_generators('data',shuffle=False)"
   ]
  },
  {
   "cell_type": "code",
   "execution_count": 5,
   "metadata": {},
   "outputs": [
    {
     "name": "stderr",
     "output_type": "stream",
     "text": [
      "/home/8p361-lecturer/anaconda3/lib/python3.8/site-packages/tensorflow/python/keras/engine/training.py:1905: UserWarning: `Model.predict_generator` is deprecated and will be removed in a future version. Please use `Model.predict`, which supports generators.\n",
      "  warnings.warn('`Model.predict_generator` is deprecated and '\n"
     ]
    },
    {
     "name": "stdout",
     "output_type": "stream",
     "text": [
      "0.9261489309412632 0.9411091325362503\n"
     ]
    },
    {
     "data": {
      "image/png": "[encoded data removed]",
      "text/plain": [
       "<Figure size 432x288 with 2 Axes>"
      ]
     },
     "metadata": {
      "needs_background": "light"
     },
     "output_type": "display_data"
    }
   ],
   "source": [
    "analysis(loaded_model,val_genF)"
   ]
  },
  {
   "cell_type": "code",
   "execution_count": 6,
   "metadata": {},
   "outputs": [
    {
     "data": {
      "image/png": "[encoded data removed]",
      "text/plain": [
       "<Figure size 432x288 with 1 Axes>"
      ]
     },
     "metadata": {
      "needs_background": "light"
     },
     "output_type": "display_data"
    }
   ],
   "source": [
    "ROC_curve(loaded_model,val_genF)"
   ]
  }
 ],
 "metadata": {
  "kernelspec": {
   "display_name": "Python 3",
   "language": "python",
   "name": "python3"
  },
  "language_info": {
   "codemirror_mode": {
    "name": "ipython",
    "version": 3
   },
   "file_extension": ".py",
   "mimetype": "text/x-python",
   "name": "python",
   "nbconvert_exporter": "python",
   "pygments_lexer": "ipython3",
   "version": "3.8.5"
  }
 },
 "nbformat": 4,
 "nbformat_minor": 5
}
