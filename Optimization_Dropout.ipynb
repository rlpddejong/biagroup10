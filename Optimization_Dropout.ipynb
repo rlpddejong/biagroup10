{
 "cells": [
  {
   "cell_type": "markdown",
   "metadata": {},
   "source": [
    "# Optimization of the Dropout\n",
    "Course: 8P361  &emsp;&emsp;  Group: 10\n",
    "\n",
    "Helgers, V.M.J. \t&emsp;&emsp; 1329332 <br>\n",
    "Jong, de R.L.P.D.\t&emsp;  1328328 <br>\n",
    "Korsten, T.\t\t    &emsp;&emsp;&emsp;&emsp; 1340522 <br>\n",
    "Moharir, S. \t\t&emsp;&emsp;&emsp;&emsp; 1296256 <br>"
   ]
  },
  {
   "cell_type": "markdown",
   "metadata": {},
   "source": [
    "## Important notes\n",
    "\n",
    "1. Note that all functions needed to execute this notebook can be found in the Optimization_Dropout.py file.\n",
    "\n",
    "2. If one wants to run this notebook it is important to add the right path to the image data within the function 'get_pcam_generators' which is called below."
   ]
  },
  {
   "cell_type": "markdown",
   "metadata": {},
   "source": [
    "## What the notebook does\n",
    "This notebook is created to investigate whether Dropout, and with what dropout rate if applicable, is benefitial to use in this model. There has been chosen to vary the models with the following:\n",
    "1. No dropout, so a dropoutrate of 0\n",
    "2. Dropout with a dropoutrate of 0.1\n",
    "3. Dropout with a dropoutrate of 0.2\n",
    "4. Dropout with a dropoutrate of 0.3\n",
    "5. Dropout with a dropoutrate of 0.4\n",
    "6. Dropout with a dropoutrate of 0.5"
   ]
  },
  {
   "cell_type": "markdown",
   "metadata": {},
   "source": [
    "### 1. First, import the relevant functions."
   ]
  },
  {
   "cell_type": "code",
   "execution_count": 1,
   "metadata": {},
   "outputs": [],
   "source": [
    "from Optimization_Dropout import get_pcam_generators, get_model, train_model"
   ]
  },
  {
   "cell_type": "markdown",
   "metadata": {},
   "source": [
    "### 2 Get the model"
   ]
  },
  {
   "cell_type": "markdown",
   "metadata": {},
   "source": [
    "#### 2.1 Model without dropout"
   ]
  },
  {
   "cell_type": "code",
   "execution_count": 2,
   "metadata": {},
   "outputs": [
    {
     "name": "stdout",
     "output_type": "stream",
     "text": [
      "Found 144000 images belonging to 2 classes.\n",
      "Found 16000 images belonging to 2 classes.\n"
     ]
    }
   ],
   "source": [
    "train_gen, val_gen = get_pcam_generators('data')"
   ]
  },
  {
   "cell_type": "code",
   "execution_count": 3,
   "metadata": {},
   "outputs": [],
   "source": [
    "model = get_model(0)"
   ]
  },
  {
   "cell_type": "code",
   "execution_count": 4,
   "metadata": {},
   "outputs": [
    {
     "name": "stderr",
     "output_type": "stream",
     "text": [
      "/home/8p361-lecturer/anaconda3/lib/python3.8/site-packages/tensorflow/python/keras/engine/training.py:1844: UserWarning: `Model.fit_generator` is deprecated and will be removed in a future version. Please use `Model.fit`, which supports generators.\n",
      "  warnings.warn('`Model.fit_generator` is deprecated and '\n"
     ]
    },
    {
     "name": "stdout",
     "output_type": "stream",
     "text": [
      "Epoch 1/10\n",
      "1125/1125 [==============================] - 148s 125ms/step - loss: 0.5911 - accuracy: 0.6379 - val_loss: 0.3570 - val_accuracy: 0.8438\n",
      "\n",
      "Epoch 00001: val_loss improved from inf to 0.35698, saving model to model_weights.hdf5\n",
      "Epoch 2/10\n",
      "1125/1125 [==============================] - 140s 124ms/step - loss: 0.3458 - accuracy: 0.8499 - val_loss: 0.2594 - val_accuracy: 0.8937\n",
      "\n",
      "Epoch 00002: val_loss improved from 0.35698 to 0.25936, saving model to model_weights.hdf5\n",
      "Epoch 3/10\n",
      "1125/1125 [==============================] - 141s 126ms/step - loss: 0.2551 - accuracy: 0.8955 - val_loss: 0.2249 - val_accuracy: 0.9147\n",
      "\n",
      "Epoch 00003: val_loss improved from 0.25936 to 0.22488, saving model to model_weights.hdf5\n",
      "Epoch 4/10\n",
      "1125/1125 [==============================] - 141s 126ms/step - loss: 0.2182 - accuracy: 0.9138 - val_loss: 0.2072 - val_accuracy: 0.9160\n",
      "\n",
      "Epoch 00004: val_loss improved from 0.22488 to 0.20719, saving model to model_weights.hdf5\n",
      "Epoch 5/10\n",
      "1125/1125 [==============================] - 141s 126ms/step - loss: 0.1906 - accuracy: 0.9261 - val_loss: 0.1851 - val_accuracy: 0.9304\n",
      "\n",
      "Epoch 00005: val_loss improved from 0.20719 to 0.18512, saving model to model_weights.hdf5\n",
      "Epoch 6/10\n",
      "1125/1125 [==============================] - 141s 125ms/step - loss: 0.1735 - accuracy: 0.9336 - val_loss: 0.1768 - val_accuracy: 0.9365\n",
      "\n",
      "Epoch 00006: val_loss improved from 0.18512 to 0.17680, saving model to model_weights.hdf5\n",
      "Epoch 7/10\n",
      "1125/1125 [==============================] - 141s 125ms/step - loss: 0.1614 - accuracy: 0.9387 - val_loss: 0.1576 - val_accuracy: 0.9426\n",
      "\n",
      "Epoch 00007: val_loss improved from 0.17680 to 0.15758, saving model to model_weights.hdf5\n",
      "Epoch 8/10\n",
      "1125/1125 [==============================] - 144s 128ms/step - loss: 0.1461 - accuracy: 0.9447 - val_loss: 0.1543 - val_accuracy: 0.9434\n",
      "\n",
      "Epoch 00008: val_loss improved from 0.15758 to 0.15428, saving model to model_weights.hdf5\n",
      "Epoch 9/10\n",
      "1125/1125 [==============================] - 143s 127ms/step - loss: 0.1348 - accuracy: 0.9494 - val_loss: 0.1561 - val_accuracy: 0.9406\n",
      "\n",
      "Epoch 00009: val_loss did not improve from 0.15428\n",
      "Epoch 10/10\n",
      "1125/1125 [==============================] - 146s 130ms/step - loss: 0.1217 - accuracy: 0.9548 - val_loss: 0.1518 - val_accuracy: 0.9434\n",
      "\n",
      "Epoch 00010: val_loss improved from 0.15428 to 0.15175, saving model to model_weights.hdf5\n"
     ]
    }
   ],
   "source": [
    "train_model(model,train_gen,val_gen,'model')"
   ]
  },
  {
   "cell_type": "markdown",
   "metadata": {},
   "source": [
    "#### 2.2 Model with a dropoutrate of 0.1"
   ]
  },
  {
   "cell_type": "code",
   "execution_count": 5,
   "metadata": {},
   "outputs": [
    {
     "name": "stdout",
     "output_type": "stream",
     "text": [
      "Found 144000 images belonging to 2 classes.\n",
      "Found 16000 images belonging to 2 classes.\n"
     ]
    }
   ],
   "source": [
    "train_gen1, val_gen1 = get_pcam_generators('data')"
   ]
  },
  {
   "cell_type": "code",
   "execution_count": 6,
   "metadata": {},
   "outputs": [],
   "source": [
    "model1 = get_model(0.1)"
   ]
  },
  {
   "cell_type": "code",
   "execution_count": 7,
   "metadata": {},
   "outputs": [
    {
     "name": "stdout",
     "output_type": "stream",
     "text": [
      "Epoch 1/10\n",
      "1125/1125 [==============================] - 148s 131ms/step - loss: 0.4938 - accuracy: 0.7563 - val_loss: 0.3865 - val_accuracy: 0.8296\n",
      "\n",
      "Epoch 00001: val_loss improved from inf to 0.38654, saving model to model1_weights.hdf5\n",
      "Epoch 2/10\n",
      "1125/1125 [==============================] - 145s 129ms/step - loss: 0.3354 - accuracy: 0.8549 - val_loss: 0.2750 - val_accuracy: 0.8874\n",
      "\n",
      "Epoch 00002: val_loss improved from 0.38654 to 0.27504, saving model to model1_weights.hdf5\n",
      "Epoch 3/10\n",
      "1125/1125 [==============================] - 144s 128ms/step - loss: 0.2625 - accuracy: 0.8930 - val_loss: 0.2042 - val_accuracy: 0.9217\n",
      "\n",
      "Epoch 00003: val_loss improved from 0.27504 to 0.20416, saving model to model1_weights.hdf5\n",
      "Epoch 4/10\n",
      "1125/1125 [==============================] - 144s 128ms/step - loss: 0.2237 - accuracy: 0.9105 - val_loss: 0.2159 - val_accuracy: 0.9183\n",
      "\n",
      "Epoch 00004: val_loss did not improve from 0.20416\n",
      "Epoch 5/10\n",
      "1125/1125 [==============================] - 145s 128ms/step - loss: 0.1966 - accuracy: 0.9234 - val_loss: 0.1803 - val_accuracy: 0.9314\n",
      "\n",
      "Epoch 00005: val_loss improved from 0.20416 to 0.18028, saving model to model1_weights.hdf5\n",
      "Epoch 6/10\n",
      "1125/1125 [==============================] - 144s 128ms/step - loss: 0.1813 - accuracy: 0.9307 - val_loss: 0.1766 - val_accuracy: 0.9329\n",
      "\n",
      "Epoch 00006: val_loss improved from 0.18028 to 0.17658, saving model to model1_weights.hdf5\n",
      "Epoch 7/10\n",
      "1125/1125 [==============================] - 145s 129ms/step - loss: 0.1685 - accuracy: 0.9361 - val_loss: 0.2172 - val_accuracy: 0.9185\n",
      "\n",
      "Epoch 00007: val_loss did not improve from 0.17658\n",
      "Epoch 8/10\n",
      "1125/1125 [==============================] - 143s 127ms/step - loss: 0.1560 - accuracy: 0.9420 - val_loss: 0.1724 - val_accuracy: 0.9338\n",
      "\n",
      "Epoch 00008: val_loss improved from 0.17658 to 0.17241, saving model to model1_weights.hdf5\n",
      "Epoch 9/10\n",
      "1125/1125 [==============================] - 144s 128ms/step - loss: 0.1486 - accuracy: 0.9446 - val_loss: 0.1811 - val_accuracy: 0.9326\n",
      "\n",
      "Epoch 00009: val_loss did not improve from 0.17241\n",
      "Epoch 10/10\n",
      "1125/1125 [==============================] - 147s 130ms/step - loss: 0.1398 - accuracy: 0.9479 - val_loss: 0.1566 - val_accuracy: 0.9413\n",
      "\n",
      "Epoch 00010: val_loss improved from 0.17241 to 0.15662, saving model to model1_weights.hdf5\n"
     ]
    }
   ],
   "source": [
    "train_model(model1,train_gen1,val_gen1,'model1')"
   ]
  },
  {
   "cell_type": "markdown",
   "metadata": {},
   "source": [
    "#### 2.3 Model with a dropoutrate of 0.2"
   ]
  },
  {
   "cell_type": "code",
   "execution_count": 8,
   "metadata": {},
   "outputs": [
    {
     "name": "stdout",
     "output_type": "stream",
     "text": [
      "Found 144000 images belonging to 2 classes.\n",
      "Found 16000 images belonging to 2 classes.\n"
     ]
    }
   ],
   "source": [
    "train_gen2, val_gen2 = get_pcam_generators('data')"
   ]
  },
  {
   "cell_type": "code",
   "execution_count": 9,
   "metadata": {},
   "outputs": [],
   "source": [
    "model2 = get_model(0.2)"
   ]
  },
  {
   "cell_type": "code",
   "execution_count": 10,
   "metadata": {},
   "outputs": [
    {
     "name": "stdout",
     "output_type": "stream",
     "text": [
      "Epoch 1/10\n",
      "1125/1125 [==============================] - 151s 133ms/step - loss: 0.5644 - accuracy: 0.6745 - val_loss: 0.3953 - val_accuracy: 0.8303\n",
      "\n",
      "Epoch 00001: val_loss improved from inf to 0.39528, saving model to model2_weights.hdf5\n",
      "Epoch 2/10\n",
      "1125/1125 [==============================] - 149s 133ms/step - loss: 0.3536 - accuracy: 0.8461 - val_loss: 0.3322 - val_accuracy: 0.8593\n",
      "\n",
      "Epoch 00002: val_loss improved from 0.39528 to 0.33222, saving model to model2_weights.hdf5\n",
      "Epoch 3/10\n",
      "1125/1125 [==============================] - 146s 129ms/step - loss: 0.2825 - accuracy: 0.8802 - val_loss: 0.2624 - val_accuracy: 0.8935\n",
      "\n",
      "Epoch 00003: val_loss improved from 0.33222 to 0.26235, saving model to model2_weights.hdf5\n",
      "Epoch 4/10\n",
      "1125/1125 [==============================] - 147s 130ms/step - loss: 0.2425 - accuracy: 0.9015 - val_loss: 0.2162 - val_accuracy: 0.9168\n",
      "\n",
      "Epoch 00004: val_loss improved from 0.26235 to 0.21622, saving model to model2_weights.hdf5\n",
      "Epoch 5/10\n",
      "1125/1125 [==============================] - 148s 132ms/step - loss: 0.2131 - accuracy: 0.9156 - val_loss: 0.1891 - val_accuracy: 0.9279\n",
      "\n",
      "Epoch 00005: val_loss improved from 0.21622 to 0.18906, saving model to model2_weights.hdf5\n",
      "Epoch 6/10\n",
      "1125/1125 [==============================] - 148s 131ms/step - loss: 0.1957 - accuracy: 0.9234 - val_loss: 0.1769 - val_accuracy: 0.9331\n",
      "\n",
      "Epoch 00006: val_loss improved from 0.18906 to 0.17694, saving model to model2_weights.hdf5\n",
      "Epoch 7/10\n",
      "1125/1125 [==============================] - 150s 134ms/step - loss: 0.1856 - accuracy: 0.9285 - val_loss: 0.1748 - val_accuracy: 0.9356\n",
      "\n",
      "Epoch 00007: val_loss improved from 0.17694 to 0.17477, saving model to model2_weights.hdf5\n",
      "Epoch 8/10\n",
      "1125/1125 [==============================] - 149s 132ms/step - loss: 0.1730 - accuracy: 0.9327 - val_loss: 0.1607 - val_accuracy: 0.9399\n",
      "\n",
      "Epoch 00008: val_loss improved from 0.17477 to 0.16073, saving model to model2_weights.hdf5\n",
      "Epoch 9/10\n",
      "1125/1125 [==============================] - 147s 130ms/step - loss: 0.1634 - accuracy: 0.9375 - val_loss: 0.1562 - val_accuracy: 0.9410\n",
      "\n",
      "Epoch 00009: val_loss improved from 0.16073 to 0.15624, saving model to model2_weights.hdf5\n",
      "Epoch 10/10\n",
      "1125/1125 [==============================] - 150s 133ms/step - loss: 0.1587 - accuracy: 0.9401 - val_loss: 0.1772 - val_accuracy: 0.9319\n",
      "\n",
      "Epoch 00010: val_loss did not improve from 0.15624\n"
     ]
    }
   ],
   "source": [
    "train_model(model2,train_gen2,val_gen2,'model2')"
   ]
  },
  {
   "cell_type": "markdown",
   "metadata": {},
   "source": [
    "#### 2.4 Model with a dropoutrate of 0.3"
   ]
  },
  {
   "cell_type": "code",
   "execution_count": 11,
   "metadata": {},
   "outputs": [
    {
     "name": "stdout",
     "output_type": "stream",
     "text": [
      "Found 144000 images belonging to 2 classes.\n",
      "Found 16000 images belonging to 2 classes.\n"
     ]
    }
   ],
   "source": [
    "train_gen3, val_gen3 = get_pcam_generators('data')"
   ]
  },
  {
   "cell_type": "code",
   "execution_count": 12,
   "metadata": {},
   "outputs": [],
   "source": [
    "model3 = get_model(0.3)"
   ]
  },
  {
   "cell_type": "code",
   "execution_count": 13,
   "metadata": {},
   "outputs": [
    {
     "name": "stdout",
     "output_type": "stream",
     "text": [
      "Epoch 1/10\n",
      "1125/1125 [==============================] - 147s 129ms/step - loss: 0.5860 - accuracy: 0.6501 - val_loss: 0.3596 - val_accuracy: 0.8384\n",
      "\n",
      "Epoch 00001: val_loss improved from inf to 0.35962, saving model to model3_weights.hdf5\n",
      "Epoch 2/10\n",
      "1125/1125 [==============================] - 135s 120ms/step - loss: 0.3493 - accuracy: 0.8487 - val_loss: 0.2944 - val_accuracy: 0.8836\n",
      "\n",
      "Epoch 00002: val_loss improved from 0.35962 to 0.29441, saving model to model3_weights.hdf5\n",
      "Epoch 3/10\n",
      "1125/1125 [==============================] - 135s 120ms/step - loss: 0.2916 - accuracy: 0.8783 - val_loss: 0.2676 - val_accuracy: 0.8981\n",
      "\n",
      "Epoch 00003: val_loss improved from 0.29441 to 0.26763, saving model to model3_weights.hdf5\n",
      "Epoch 4/10\n",
      "1125/1125 [==============================] - 136s 120ms/step - loss: 0.2522 - accuracy: 0.8995 - val_loss: 0.2460 - val_accuracy: 0.9056\n",
      "\n",
      "Epoch 00004: val_loss improved from 0.26763 to 0.24605, saving model to model3_weights.hdf5\n",
      "Epoch 5/10\n",
      "1125/1125 [==============================] - 141s 125ms/step - loss: 0.2319 - accuracy: 0.9071 - val_loss: 0.2167 - val_accuracy: 0.9201\n",
      "\n",
      "Epoch 00005: val_loss improved from 0.24605 to 0.21669, saving model to model3_weights.hdf5\n",
      "Epoch 6/10\n",
      "1125/1125 [==============================] - 136s 120ms/step - loss: 0.2121 - accuracy: 0.9161 - val_loss: 0.1908 - val_accuracy: 0.9303\n",
      "\n",
      "Epoch 00006: val_loss improved from 0.21669 to 0.19076, saving model to model3_weights.hdf5\n",
      "Epoch 7/10\n",
      "1125/1125 [==============================] - 137s 121ms/step - loss: 0.2036 - accuracy: 0.9204 - val_loss: 0.1936 - val_accuracy: 0.9308\n",
      "\n",
      "Epoch 00007: val_loss did not improve from 0.19076\n",
      "Epoch 8/10\n",
      "1125/1125 [==============================] - 141s 125ms/step - loss: 0.1905 - accuracy: 0.9268 - val_loss: 0.1769 - val_accuracy: 0.9323\n",
      "\n",
      "Epoch 00008: val_loss improved from 0.19076 to 0.17688, saving model to model3_weights.hdf5\n",
      "Epoch 9/10\n",
      "1125/1125 [==============================] - 136s 121ms/step - loss: 0.1864 - accuracy: 0.9278 - val_loss: 0.1995 - val_accuracy: 0.9252\n",
      "\n",
      "Epoch 00009: val_loss did not improve from 0.17688\n",
      "Epoch 10/10\n",
      "1125/1125 [==============================] - 137s 122ms/step - loss: 0.1783 - accuracy: 0.9316 - val_loss: 0.1746 - val_accuracy: 0.9341\n",
      "\n",
      "Epoch 00010: val_loss improved from 0.17688 to 0.17461, saving model to model3_weights.hdf5\n"
     ]
    }
   ],
   "source": [
    "train_model(model3,train_gen3,val_gen3,'model3')"
   ]
  },
  {
   "cell_type": "markdown",
   "metadata": {},
   "source": [
    "#### 2.5 Model with a dropoutrate of 0.4"
   ]
  },
  {
   "cell_type": "code",
   "execution_count": 14,
   "metadata": {},
   "outputs": [
    {
     "name": "stdout",
     "output_type": "stream",
     "text": [
      "Found 144000 images belonging to 2 classes.\n",
      "Found 16000 images belonging to 2 classes.\n"
     ]
    }
   ],
   "source": [
    "train_gen4, val_gen4 = get_pcam_generators('data')"
   ]
  },
  {
   "cell_type": "code",
   "execution_count": 15,
   "metadata": {},
   "outputs": [],
   "source": [
    "model4 = get_model(0.4)"
   ]
  },
  {
   "cell_type": "code",
   "execution_count": 16,
   "metadata": {},
   "outputs": [
    {
     "name": "stdout",
     "output_type": "stream",
     "text": [
      "Epoch 1/10\n",
      "1125/1125 [==============================] - 138s 122ms/step - loss: 0.5128 - accuracy: 0.7348 - val_loss: 0.3469 - val_accuracy: 0.8462\n",
      "\n",
      "Epoch 00001: val_loss improved from inf to 0.34687, saving model to model4_weights.hdf5\n",
      "Epoch 2/10\n",
      "1125/1125 [==============================] - 148s 131ms/step - loss: 0.3396 - accuracy: 0.8534 - val_loss: 0.2918 - val_accuracy: 0.8747\n",
      "\n",
      "Epoch 00002: val_loss improved from 0.34687 to 0.29178, saving model to model4_weights.hdf5\n",
      "Epoch 3/10\n",
      "1125/1125 [==============================] - 145s 129ms/step - loss: 0.2890 - accuracy: 0.8794 - val_loss: 0.2442 - val_accuracy: 0.8966\n",
      "\n",
      "Epoch 00003: val_loss improved from 0.29178 to 0.24422, saving model to model4_weights.hdf5\n",
      "Epoch 4/10\n",
      "1125/1125 [==============================] - 147s 130ms/step - loss: 0.2537 - accuracy: 0.8983 - val_loss: 0.2442 - val_accuracy: 0.9078\n",
      "\n",
      "Epoch 00004: val_loss improved from 0.24422 to 0.24417, saving model to model4_weights.hdf5\n",
      "Epoch 5/10\n",
      "1125/1125 [==============================] - 144s 128ms/step - loss: 0.2338 - accuracy: 0.9071 - val_loss: 0.2176 - val_accuracy: 0.9114\n",
      "\n",
      "Epoch 00005: val_loss improved from 0.24417 to 0.21758, saving model to model4_weights.hdf5\n",
      "Epoch 6/10\n",
      "1125/1125 [==============================] - 146s 130ms/step - loss: 0.2222 - accuracy: 0.9112 - val_loss: 0.1908 - val_accuracy: 0.9246\n",
      "\n",
      "Epoch 00006: val_loss improved from 0.21758 to 0.19083, saving model to model4_weights.hdf5\n",
      "Epoch 7/10\n",
      "1125/1125 [==============================] - 149s 132ms/step - loss: 0.2084 - accuracy: 0.9183 - val_loss: 0.1694 - val_accuracy: 0.9352\n",
      "\n",
      "Epoch 00007: val_loss improved from 0.19083 to 0.16939, saving model to model4_weights.hdf5\n",
      "Epoch 8/10\n",
      "1125/1125 [==============================] - 149s 132ms/step - loss: 0.2049 - accuracy: 0.9198 - val_loss: 0.1621 - val_accuracy: 0.9398\n",
      "\n",
      "Epoch 00008: val_loss improved from 0.16939 to 0.16207, saving model to model4_weights.hdf5\n",
      "Epoch 9/10\n",
      "1125/1125 [==============================] - 148s 131ms/step - loss: 0.1900 - accuracy: 0.9262 - val_loss: 0.1719 - val_accuracy: 0.9358\n",
      "\n",
      "Epoch 00009: val_loss did not improve from 0.16207\n",
      "Epoch 10/10\n",
      "1125/1125 [==============================] - 144s 128ms/step - loss: 0.1878 - accuracy: 0.9288 - val_loss: 0.1843 - val_accuracy: 0.9332\n",
      "\n",
      "Epoch 00010: val_loss did not improve from 0.16207\n"
     ]
    }
   ],
   "source": [
    "train_model(model4,train_gen4,val_gen4,'model4')"
   ]
  },
  {
   "cell_type": "markdown",
   "metadata": {},
   "source": [
    "#### 2.6 Model with a dropoutrate of 0.5"
   ]
  },
  {
   "cell_type": "code",
   "execution_count": 17,
   "metadata": {},
   "outputs": [
    {
     "name": "stdout",
     "output_type": "stream",
     "text": [
      "Found 144000 images belonging to 2 classes.\n",
      "Found 16000 images belonging to 2 classes.\n"
     ]
    }
   ],
   "source": [
    "train_gen5, val_gen5 = get_pcam_generators('data')"
   ]
  },
  {
   "cell_type": "code",
   "execution_count": 18,
   "metadata": {},
   "outputs": [],
   "source": [
    "model5 = get_model(0.5)"
   ]
  },
  {
   "cell_type": "code",
   "execution_count": 19,
   "metadata": {},
   "outputs": [
    {
     "name": "stdout",
     "output_type": "stream",
     "text": [
      "Epoch 1/10\n",
      "1125/1125 [==============================] - 148s 130ms/step - loss: 0.5447 - accuracy: 0.7033 - val_loss: 0.3858 - val_accuracy: 0.8273\n",
      "\n",
      "Epoch 00001: val_loss improved from inf to 0.38584, saving model to model5_weights.hdf5\n",
      "Epoch 2/10\n",
      "1125/1125 [==============================] - 146s 130ms/step - loss: 0.3691 - accuracy: 0.8384 - val_loss: 0.3011 - val_accuracy: 0.8711\n",
      "\n",
      "Epoch 00002: val_loss improved from 0.38584 to 0.30114, saving model to model5_weights.hdf5\n",
      "Epoch 3/10\n",
      "1125/1125 [==============================] - 145s 129ms/step - loss: 0.3147 - accuracy: 0.8665 - val_loss: 0.2612 - val_accuracy: 0.8914\n",
      "\n",
      "Epoch 00003: val_loss improved from 0.30114 to 0.26118, saving model to model5_weights.hdf5\n",
      "Epoch 4/10\n",
      "1125/1125 [==============================] - 143s 127ms/step - loss: 0.2780 - accuracy: 0.8852 - val_loss: 0.2308 - val_accuracy: 0.9080\n",
      "\n",
      "Epoch 00004: val_loss improved from 0.26118 to 0.23075, saving model to model5_weights.hdf5\n",
      "Epoch 5/10\n",
      "1125/1125 [==============================] - 146s 130ms/step - loss: 0.2590 - accuracy: 0.8951 - val_loss: 0.2781 - val_accuracy: 0.8887\n",
      "\n",
      "Epoch 00005: val_loss did not improve from 0.23075\n",
      "Epoch 6/10\n",
      "1125/1125 [==============================] - 146s 129ms/step - loss: 0.2385 - accuracy: 0.9048 - val_loss: 0.2090 - val_accuracy: 0.9189\n",
      "\n",
      "Epoch 00006: val_loss improved from 0.23075 to 0.20899, saving model to model5_weights.hdf5\n",
      "Epoch 7/10\n",
      "1125/1125 [==============================] - 146s 130ms/step - loss: 0.2266 - accuracy: 0.9101 - val_loss: 0.2058 - val_accuracy: 0.9213\n",
      "\n",
      "Epoch 00007: val_loss improved from 0.20899 to 0.20582, saving model to model5_weights.hdf5\n",
      "Epoch 8/10\n",
      "1125/1125 [==============================] - 145s 129ms/step - loss: 0.2174 - accuracy: 0.9146 - val_loss: 0.2162 - val_accuracy: 0.9174\n",
      "\n",
      "Epoch 00008: val_loss did not improve from 0.20582\n",
      "Epoch 9/10\n",
      "1125/1125 [==============================] - 144s 128ms/step - loss: 0.2102 - accuracy: 0.9175 - val_loss: 0.1799 - val_accuracy: 0.9321\n",
      "\n",
      "Epoch 00009: val_loss improved from 0.20582 to 0.17995, saving model to model5_weights.hdf5\n",
      "Epoch 10/10\n",
      "1125/1125 [==============================] - 144s 128ms/step - loss: 0.2054 - accuracy: 0.9195 - val_loss: 0.1694 - val_accuracy: 0.9351\n",
      "\n",
      "Epoch 00010: val_loss improved from 0.17995 to 0.16944, saving model to model5_weights.hdf5\n"
     ]
    }
   ],
   "source": [
    "train_model(model5,train_gen5,val_gen5,'model5')"
   ]
  }
 ],
 "metadata": {
  "kernelspec": {
   "display_name": "Python 3",
   "language": "python",
   "name": "python3"
  },
  "language_info": {
   "codemirror_mode": {
    "name": "ipython",
    "version": 3
   },
   "file_extension": ".py",
   "mimetype": "text/x-python",
   "name": "python",
   "nbconvert_exporter": "python",
   "pygments_lexer": "ipython3",
   "version": "3.8.5"
  }
 },
 "nbformat": 4,
 "nbformat_minor": 4
}
