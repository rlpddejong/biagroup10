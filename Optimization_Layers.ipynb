{
 "cells": [
  {
   "cell_type": "markdown",
   "metadata": {},
   "source": [
    "# Optimization of the Layers\n",
    "Course: 8P361  &emsp;&emsp;  Group: 10\n",
    "\n",
    "Helgers, V.M.J. \t&emsp;&emsp; 1329332 <br>\n",
    "Jong, de R.L.P.D. \t&emsp; 1328328 <br>\n",
    "Korsten, T.\t\t    &emsp;&emsp;&emsp;&emsp; 1340522 <br>\n",
    "Moharir, S. \t\t&emsp;&emsp;&emsp;&emsp; 1296256 <br>"
   ]
  },
  {
   "cell_type": "markdown",
   "metadata": {},
   "source": [
    "## Important notes\n",
    "\n",
    "1. Note that all functions needed to execute this notebook can be found in the Optimization_Layers.py file.\n",
    "\n",
    "2. If one wants to run this notebook it is important to add the right path to the image data within the function 'get_pcam_generators' which is called below."
   ]
  },
  {
   "cell_type": "markdown",
   "metadata": {},
   "source": [
    "### 1. First, import the relevant functions."
   ]
  },
  {
   "cell_type": "code",
   "execution_count": 2,
   "metadata": {},
   "outputs": [],
   "source": [
    "from Optimization_Layers import get_model, get_pcam_generators, train_model"
   ]
  },
  {
   "cell_type": "markdown",
   "metadata": {},
   "source": [
    "### 2. Next, Get the data generators."
   ]
  },
  {
   "cell_type": "code",
   "execution_count": 3,
   "metadata": {},
   "outputs": [
    {
     "name": "stdout",
     "output_type": "stream",
     "text": [
      "Found 144000 images belonging to 2 classes.\n",
      "Found 16000 images belonging to 2 classes.\n"
     ]
    }
   ],
   "source": [
    "train_gen, val_gen = get_pcam_generators('C:/Users/20182372/Documents/TUE/Jaar 3 BMT/Kwartiel 3/Project Imaging/BIA Data')"
   ]
  },
  {
   "cell_type": "markdown",
   "metadata": {},
   "source": [
    "### 3. Get and train the model."
   ]
  },
  {
   "cell_type": "markdown",
   "metadata": {},
   "source": [
    "In this section, there will be an optimization for the layers in the model. There will be optimized with the number of blocks consisting of convolutional layers and a max pooling layer, which will varie between 2 and 3 blocks since there is no possibility of more max pooling layers with the input format used. Furthermore there will be optimized with the number of convolutional layers per block, consisting with convolutional layers and a max pooling layer. This number is for now set to vary between 1 and 3. Too many layers may lead to overfitting of the model, so therefore this choice has been made."
   ]
  },
  {
   "cell_type": "markdown",
   "metadata": {},
   "source": [
    "#### 3.1 Model with 2 blocks, containing 1 convolutional layer per block"
   ]
  },
  {
   "cell_type": "code",
   "execution_count": 3,
   "metadata": {},
   "outputs": [
    {
     "name": "stderr",
     "output_type": "stream",
     "text": [
      "C:\\Users\\20182372\\Anaconda3\\envs\\BIA\\lib\\site-packages\\tensorflow\\python\\keras\\engine\\training.py:1844: UserWarning: `Model.fit_generator` is deprecated and will be removed in a future version. Please use `Model.fit`, which supports generators.\n",
      "  warnings.warn('`Model.fit_generator` is deprecated and '\n"
     ]
    },
    {
     "name": "stdout",
     "output_type": "stream",
     "text": [
      "Epoch 1/3\n",
      "4500/4500 [==============================] - 308s 68ms/step - loss: 0.5261 - accuracy: 0.7293 - val_loss: 0.4674 - val_accuracy: 0.7791\n",
      "\n",
      "Epoch 00001: val_loss improved from inf to 0.46742, saving model to model21_weights.hdf5\n",
      "Epoch 2/3\n",
      "4500/4500 [==============================] - 289s 64ms/step - loss: 0.3947 - accuracy: 0.8241 - val_loss: 0.3729 - val_accuracy: 0.8358\n",
      "\n",
      "Epoch 00002: val_loss improved from 0.46742 to 0.37292, saving model to model21_weights.hdf5\n",
      "Epoch 3/3\n",
      "4500/4500 [==============================] - 282s 63ms/step - loss: 0.3453 - accuracy: 0.8515 - val_loss: 0.3179 - val_accuracy: 0.8665\n",
      "\n",
      "Epoch 00003: val_loss improved from 0.37292 to 0.31792, saving model to model21_weights.hdf5\n"
     ]
    }
   ],
   "source": [
    "# Get the model\n",
    "model21 = get_model(2,1)\n",
    "\n",
    "# Train the model\n",
    "train_model(model21, train_gen, val_gen, 'model21')"
   ]
  },
  {
   "cell_type": "markdown",
   "metadata": {},
   "source": [
    "#### 3.2 Model with 3 blocks, containing 1 convolutional layer per block"
   ]
  },
  {
   "cell_type": "code",
   "execution_count": 4,
   "metadata": {},
   "outputs": [
    {
     "name": "stdout",
     "output_type": "stream",
     "text": [
      "Epoch 1/3\n",
      "4500/4500 [==============================] - 289s 64ms/step - loss: 0.5234 - accuracy: 0.7366 - val_loss: 0.4680 - val_accuracy: 0.7811\n",
      "\n",
      "Epoch 00001: val_loss improved from inf to 0.46804, saving model to model31_weights.hdf5\n",
      "Epoch 2/3\n",
      "4500/4500 [==============================] - 391s 87ms/step - loss: 0.3754 - accuracy: 0.8354 - val_loss: 0.3458 - val_accuracy: 0.8484\n",
      "\n",
      "Epoch 00002: val_loss improved from 0.46804 to 0.34582, saving model to model31_weights.hdf5\n",
      "Epoch 3/3\n",
      "4500/4500 [==============================] - 283s 63ms/step - loss: 0.3302 - accuracy: 0.8585 - val_loss: 0.3110 - val_accuracy: 0.8704\n",
      "\n",
      "Epoch 00003: val_loss improved from 0.34582 to 0.31099, saving model to model31_weights.hdf5\n"
     ]
    }
   ],
   "source": [
    "# Get the model\n",
    "model31 = get_model(3,1)\n",
    "\n",
    "# Train the model\n",
    "train_model(model31, train_gen, val_gen, 'model31')"
   ]
  },
  {
   "cell_type": "markdown",
   "metadata": {},
   "source": [
    "#### 3.3 Model with 2 blocks, containing 2 convolutional layers per block"
   ]
  },
  {
   "cell_type": "code",
   "execution_count": 5,
   "metadata": {},
   "outputs": [
    {
     "name": "stdout",
     "output_type": "stream",
     "text": [
      "Epoch 1/3\n",
      "4500/4500 [==============================] - 277s 61ms/step - loss: 0.6201 - accuracy: 0.6267 - val_loss: 0.4095 - val_accuracy: 0.8154\n",
      "\n",
      "Epoch 00001: val_loss improved from inf to 0.40949, saving model to model22_weights.hdf5\n",
      "Epoch 2/3\n",
      "4500/4500 [==============================] - 276s 61ms/step - loss: 0.4287 - accuracy: 0.8048 - val_loss: 0.3874 - val_accuracy: 0.8309\n",
      "\n",
      "Epoch 00002: val_loss improved from 0.40949 to 0.38740, saving model to model22_weights.hdf5\n",
      "Epoch 3/3\n",
      "4500/4500 [==============================] - 276s 61ms/step - loss: 0.3843 - accuracy: 0.8285 - val_loss: 0.3866 - val_accuracy: 0.8182\n",
      "\n",
      "Epoch 00003: val_loss improved from 0.38740 to 0.38661, saving model to model22_weights.hdf5\n"
     ]
    }
   ],
   "source": [
    "# Get the model\n",
    "model22 = get_model(2,2)\n",
    "\n",
    "# Train the model\n",
    "train_model(model22, train_gen, val_gen, 'model22')"
   ]
  },
  {
   "cell_type": "markdown",
   "metadata": {},
   "source": [
    "#### 3.4 Model with 3 blocks, containing 2 convolutional layers per block"
   ]
  },
  {
   "cell_type": "code",
   "execution_count": 4,
   "metadata": {},
   "outputs": [
    {
     "name": "stderr",
     "output_type": "stream",
     "text": [
      "C:\\Users\\20182372\\Anaconda3\\envs\\BIA\\lib\\site-packages\\tensorflow\\python\\keras\\engine\\training.py:1844: UserWarning: `Model.fit_generator` is deprecated and will be removed in a future version. Please use `Model.fit`, which supports generators.\n",
      "  warnings.warn('`Model.fit_generator` is deprecated and '\n"
     ]
    },
    {
     "name": "stdout",
     "output_type": "stream",
     "text": [
      "Epoch 1/3\n",
      "4500/4500 [==============================] - 331s 73ms/step - loss: 0.5690 - accuracy: 0.6770 - val_loss: 0.4293 - val_accuracy: 0.8080\n",
      "\n",
      "Epoch 00001: val_loss improved from inf to 0.42927, saving model to model32_weights.hdf5\n",
      "Epoch 2/3\n",
      "4500/4500 [==============================] - 296s 66ms/step - loss: 0.3993 - accuracy: 0.8204 - val_loss: 0.3395 - val_accuracy: 0.8553\n",
      "\n",
      "Epoch 00002: val_loss improved from 0.42927 to 0.33949, saving model to model32_weights.hdf5\n",
      "Epoch 3/3\n",
      "4500/4500 [==============================] - 359s 80ms/step - loss: 0.3186 - accuracy: 0.8634 - val_loss: 0.2785 - val_accuracy: 0.8842\n",
      "\n",
      "Epoch 00003: val_loss improved from 0.33949 to 0.27854, saving model to model32_weights.hdf5\n"
     ]
    }
   ],
   "source": [
    "# Get the model\n",
    "model32 = get_model(3,2)\n",
    "\n",
    "# Train the model\n",
    "train_model(model32, train_gen, val_gen, 'model32')"
   ]
  },
  {
   "cell_type": "markdown",
   "metadata": {},
   "source": [
    "#### 3.5 Model with 2 blocks, containing 3 convolutional layers per block"
   ]
  },
  {
   "cell_type": "code",
   "execution_count": 5,
   "metadata": {},
   "outputs": [
    {
     "name": "stdout",
     "output_type": "stream",
     "text": [
      "Epoch 1/3\n",
      "4500/4500 [==============================] - 423s 94ms/step - loss: 0.6911 - accuracy: 0.5188 - val_loss: 0.6938 - val_accuracy: 0.5000\n",
      "\n",
      "Epoch 00001: val_loss improved from inf to 0.69380, saving model to model23_weights.hdf5\n",
      "Epoch 2/3\n",
      "4500/4500 [==============================] - 412s 92ms/step - loss: 0.6770 - accuracy: 0.5301 - val_loss: 0.4842 - val_accuracy: 0.7852\n",
      "\n",
      "Epoch 00002: val_loss improved from 0.69380 to 0.48422, saving model to model23_weights.hdf5\n",
      "Epoch 3/3\n",
      "4500/4500 [==============================] - 414s 92ms/step - loss: 0.4489 - accuracy: 0.7943 - val_loss: 0.3707 - val_accuracy: 0.8337\n",
      "\n",
      "Epoch 00003: val_loss improved from 0.48422 to 0.37071, saving model to model23_weights.hdf5\n"
     ]
    }
   ],
   "source": [
    "# Get the model\n",
    "model23 = get_model(2,3)\n",
    "\n",
    "# Train the model\n",
    "train_model(model23, train_gen, val_gen, 'model23')"
   ]
  },
  {
   "cell_type": "markdown",
   "metadata": {},
   "source": [
    "#### 3.6 Model with 3 blocks, containing 3 convolutional layers per block"
   ]
  },
  {
   "cell_type": "code",
   "execution_count": 6,
   "metadata": {},
   "outputs": [
    {
     "name": "stdout",
     "output_type": "stream",
     "text": [
      "Epoch 1/3\n",
      "4500/4500 [==============================] - 435s 97ms/step - loss: 0.6921 - accuracy: 0.5134 - val_loss: 0.6933 - val_accuracy: 0.5000\n",
      "\n",
      "Epoch 00001: val_loss improved from inf to 0.69327, saving model to model33_weights.hdf5\n",
      "Epoch 2/3\n",
      "4500/4500 [==============================] - 455s 101ms/step - loss: 0.6936 - accuracy: 0.4980 - val_loss: 0.6932 - val_accuracy: 0.5000\n",
      "\n",
      "Epoch 00002: val_loss improved from 0.69327 to 0.69317, saving model to model33_weights.hdf5\n",
      "Epoch 3/3\n",
      "4500/4500 [==============================] - 433s 96ms/step - loss: 0.6934 - accuracy: 0.5019 - val_loss: 0.6937 - val_accuracy: 0.5000\n",
      "\n",
      "Epoch 00003: val_loss did not improve from 0.69317\n"
     ]
    }
   ],
   "source": [
    "# Get the model\n",
    "model33 = get_model(3,3)\n",
    "\n",
    "# Train the model\n",
    "train_model(model33, train_gen, val_gen, 'model33')"
   ]
  }
 ],
 "metadata": {
  "kernelspec": {
   "display_name": "Python 3",
   "language": "python",
   "name": "python3"
  },
  "language_info": {
   "codemirror_mode": {
    "name": "ipython",
    "version": 3
   },
   "file_extension": ".py",
   "mimetype": "text/x-python",
   "name": "python",
   "nbconvert_exporter": "python",
   "pygments_lexer": "ipython3",
   "version": "3.8.5"
  }
 },
 "nbformat": 4,
 "nbformat_minor": 2
}
