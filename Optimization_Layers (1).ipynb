{
 "cells": [
  {
   "cell_type": "markdown",
   "metadata": {},
   "source": [
    "# Optimization of the Layers\n",
    "Course: 8P361  &emsp;&emsp;  Group: 10\n",
    "\n",
    "Helgers, V.M.J. \t&emsp;&emsp; 1329332 <br>\n",
    "Jong, de R.L.P.D. \t&emsp; 1328328 <br>\n",
    "Korsten, T.\t\t    &emsp;&emsp;&emsp;&emsp; 1340522 <br>\n",
    "Moharir, S. \t\t&emsp;&emsp;&emsp;&emsp; 1296256 <br>"
   ]
  },
  {
   "cell_type": "markdown",
   "metadata": {},
   "source": [
    "## Important notes\n",
    "\n",
    "1. Note that all functions needed to execute this notebook can be found in the Optimization_Layers.py file.\n",
    "\n",
    "2. If one wants to run this notebook it is important to add the right path to the image data within the function 'get_pcam_generators' which is called below."
   ]
  },
  {
   "cell_type": "markdown",
   "metadata": {},
   "source": [
    "### 1. First, import the relevant functions."
   ]
  },
  {
   "cell_type": "code",
   "execution_count": 1,
   "metadata": {},
   "outputs": [],
   "source": [
    "from Optimization_Layers import get_model, get_pcam_generators, train_model, get_model_test"
   ]
  },
  {
   "cell_type": "markdown",
   "metadata": {},
   "source": [
    "### 2. Next, Get the data generators."
   ]
  },
  {
   "cell_type": "code",
   "execution_count": 2,
   "metadata": {},
   "outputs": [
    {
     "name": "stdout",
     "output_type": "stream",
     "text": [
      "Found 144000 images belonging to 2 classes.\n",
      "Found 16000 images belonging to 2 classes.\n"
     ]
    }
   ],
   "source": [
    "train_gen, val_gen = get_pcam_generators('data')"
   ]
  },
  {
   "cell_type": "markdown",
   "metadata": {},
   "source": [
    "### 3. Get and train the model."
   ]
  },
  {
   "cell_type": "markdown",
   "metadata": {},
   "source": [
    "In this section, there will be an optimization for the layers in the model. There will be optimized with the number of blocks consisting of convolutional layers and a max pooling layer, which will varie between 2 and 3 blocks since there is no possibility of more max pooling layers with the input format used. Furthermore there will be optimized with the number of convolutional layers per block, consisting with convolutional layers and a max pooling layer. This number is for now set to vary between 1 and 3. Too many layers may lead to overfitting of the model, so therefore this choice has been made."
   ]
  },
  {
   "cell_type": "markdown",
   "metadata": {},
   "source": [
    "#### 3.1 Model with 2 blocks, containing 1 convolutional layer per block"
   ]
  },
  {
   "cell_type": "code",
   "execution_count": 3,
   "metadata": {},
   "outputs": [
    {
     "name": "stdout",
     "output_type": "stream",
     "text": [
      "Found 144000 images belonging to 2 classes.\n",
      "Found 16000 images belonging to 2 classes.\n"
     ]
    }
   ],
   "source": [
    "train_gen21, val_gen21 = get_pcam_generators('data')"
   ]
  },
  {
   "cell_type": "code",
   "execution_count": 4,
   "metadata": {},
   "outputs": [
    {
     "name": "stderr",
     "output_type": "stream",
     "text": [
      "/home/8p361-lecturer/anaconda3/lib/python3.8/site-packages/tensorflow/python/keras/engine/training.py:1844: UserWarning: `Model.fit_generator` is deprecated and will be removed in a future version. Please use `Model.fit`, which supports generators.\n",
      "  warnings.warn('`Model.fit_generator` is deprecated and '\n"
     ]
    },
    {
     "name": "stdout",
     "output_type": "stream",
     "text": [
      "Epoch 1/3\n",
      "4500/4500 [==============================] - 123s 27ms/step - loss: 0.5308 - accuracy: 0.7285 - val_loss: 0.3964 - val_accuracy: 0.8241\n",
      "\n",
      "Epoch 00001: val_loss improved from inf to 0.39645, saving model to model21_weights.hdf5\n",
      "Epoch 2/3\n",
      "4500/4500 [==============================] - 119s 26ms/step - loss: 0.4140 - accuracy: 0.8141 - val_loss: 0.3550 - val_accuracy: 0.8419\n",
      "\n",
      "Epoch 00002: val_loss improved from 0.39645 to 0.35505, saving model to model21_weights.hdf5\n",
      "Epoch 3/3\n",
      "4500/4500 [==============================] - 119s 27ms/step - loss: 0.3631 - accuracy: 0.8403 - val_loss: 0.3254 - val_accuracy: 0.8580\n",
      "\n",
      "Epoch 00003: val_loss improved from 0.35505 to 0.32544, saving model to model21_weights.hdf5\n"
     ]
    }
   ],
   "source": [
    "# Get the model\n",
    "model21 = get_model(2,1)\n",
    "\n",
    "# Train the model\n",
    "train_model(model21, train_gen21, val_gen21, 'model21')"
   ]
  },
  {
   "cell_type": "markdown",
   "metadata": {},
   "source": [
    "#### 3.2 Model with 3 blocks, containing 1 convolutional layer per block"
   ]
  },
  {
   "cell_type": "code",
   "execution_count": 5,
   "metadata": {},
   "outputs": [
    {
     "name": "stdout",
     "output_type": "stream",
     "text": [
      "Found 144000 images belonging to 2 classes.\n",
      "Found 16000 images belonging to 2 classes.\n"
     ]
    }
   ],
   "source": [
    "train_gen31, val_gen31 = get_pcam_generators('data')"
   ]
  },
  {
   "cell_type": "code",
   "execution_count": 6,
   "metadata": {},
   "outputs": [
    {
     "name": "stdout",
     "output_type": "stream",
     "text": [
      "Epoch 1/3\n",
      "4500/4500 [==============================] - 121s 27ms/step - loss: 0.5349 - accuracy: 0.7225 - val_loss: 0.4329 - val_accuracy: 0.8021\n",
      "\n",
      "Epoch 00001: val_loss improved from inf to 0.43291, saving model to model31_weights.hdf5\n",
      "Epoch 2/3\n",
      "4500/4500 [==============================] - 123s 27ms/step - loss: 0.4297 - accuracy: 0.8058 - val_loss: 0.3779 - val_accuracy: 0.8342\n",
      "\n",
      "Epoch 00002: val_loss improved from 0.43291 to 0.37792, saving model to model31_weights.hdf5\n",
      "Epoch 3/3\n",
      "4500/4500 [==============================] - 125s 28ms/step - loss: 0.3792 - accuracy: 0.8340 - val_loss: 0.4108 - val_accuracy: 0.8146\n",
      "\n",
      "Epoch 00003: val_loss did not improve from 0.37792\n"
     ]
    }
   ],
   "source": [
    "# Get the model\n",
    "model31 = get_model(3,1)\n",
    "\n",
    "# Train the model\n",
    "train_model(model31, train_gen31, val_gen31, 'model31')"
   ]
  },
  {
   "cell_type": "markdown",
   "metadata": {},
   "source": [
    "#### 3.3 Model with 2 blocks, containing 2 convolutional layers per block"
   ]
  },
  {
   "cell_type": "code",
   "execution_count": 7,
   "metadata": {},
   "outputs": [
    {
     "name": "stdout",
     "output_type": "stream",
     "text": [
      "Found 144000 images belonging to 2 classes.\n",
      "Found 16000 images belonging to 2 classes.\n"
     ]
    }
   ],
   "source": [
    "train_gen22, val_gen22 = get_pcam_generators('data')"
   ]
  },
  {
   "cell_type": "code",
   "execution_count": 8,
   "metadata": {},
   "outputs": [
    {
     "name": "stdout",
     "output_type": "stream",
     "text": [
      "Epoch 1/3\n",
      "4500/4500 [==============================] - 124s 27ms/step - loss: 0.5932 - accuracy: 0.6439 - val_loss: 0.4528 - val_accuracy: 0.7910\n",
      "\n",
      "Epoch 00001: val_loss improved from inf to 0.45280, saving model to model22_weights.hdf5\n",
      "Epoch 2/3\n",
      "4500/4500 [==============================] - 122s 27ms/step - loss: 0.4114 - accuracy: 0.8143 - val_loss: 0.3503 - val_accuracy: 0.8416\n",
      "\n",
      "Epoch 00002: val_loss improved from 0.45280 to 0.35030, saving model to model22_weights.hdf5\n",
      "Epoch 3/3\n",
      "4500/4500 [==============================] - 122s 27ms/step - loss: 0.3410 - accuracy: 0.8514 - val_loss: 0.3060 - val_accuracy: 0.8695\n",
      "\n",
      "Epoch 00003: val_loss improved from 0.35030 to 0.30597, saving model to model22_weights.hdf5\n"
     ]
    }
   ],
   "source": [
    "# Get the model\n",
    "model22 = get_model(2,2)\n",
    "\n",
    "# Train the model\n",
    "train_model(model22, train_gen22, val_gen22, 'model22')"
   ]
  },
  {
   "cell_type": "markdown",
   "metadata": {},
   "source": [
    "#### 3.4 Model with 3 blocks, containing 2 convolutional layers per block"
   ]
  },
  {
   "cell_type": "code",
   "execution_count": 9,
   "metadata": {},
   "outputs": [
    {
     "name": "stdout",
     "output_type": "stream",
     "text": [
      "Found 144000 images belonging to 2 classes.\n",
      "Found 16000 images belonging to 2 classes.\n"
     ]
    }
   ],
   "source": [
    "train_gen32, val_gen32 = get_pcam_generators('data')"
   ]
  },
  {
   "cell_type": "code",
   "execution_count": 10,
   "metadata": {},
   "outputs": [
    {
     "name": "stdout",
     "output_type": "stream",
     "text": [
      "Epoch 1/3\n",
      "4500/4500 [==============================] - 122s 27ms/step - loss: 0.5724 - accuracy: 0.6821 - val_loss: 0.4334 - val_accuracy: 0.7933\n",
      "\n",
      "Epoch 00001: val_loss improved from inf to 0.43337, saving model to model32_weights.hdf5\n",
      "Epoch 2/3\n",
      "4500/4500 [==============================] - 122s 27ms/step - loss: 0.4080 - accuracy: 0.8172 - val_loss: 0.3572 - val_accuracy: 0.8439\n",
      "\n",
      "Epoch 00002: val_loss improved from 0.43337 to 0.35721, saving model to model32_weights.hdf5\n",
      "Epoch 3/3\n",
      "4500/4500 [==============================] - 121s 27ms/step - loss: 0.3230 - accuracy: 0.8626 - val_loss: 0.2910 - val_accuracy: 0.8754\n",
      "\n",
      "Epoch 00003: val_loss improved from 0.35721 to 0.29103, saving model to model32_weights.hdf5\n"
     ]
    }
   ],
   "source": [
    "# Get the model\n",
    "model32 = get_model(3,2)\n",
    "\n",
    "# Train the model\n",
    "train_model(model32, train_gen32, val_gen32, 'model32')"
   ]
  },
  {
   "cell_type": "markdown",
   "metadata": {},
   "source": [
    "#### 3.5 Model with 2 blocks, containing 3 convolutional layers per block"
   ]
  },
  {
   "cell_type": "code",
   "execution_count": 11,
   "metadata": {},
   "outputs": [
    {
     "name": "stdout",
     "output_type": "stream",
     "text": [
      "Found 144000 images belonging to 2 classes.\n",
      "Found 16000 images belonging to 2 classes.\n"
     ]
    }
   ],
   "source": [
    "train_gen23, val_gen23 = get_pcam_generators('data')"
   ]
  },
  {
   "cell_type": "code",
   "execution_count": 12,
   "metadata": {},
   "outputs": [
    {
     "name": "stdout",
     "output_type": "stream",
     "text": [
      "Epoch 1/3\n",
      "4500/4500 [==============================] - 122s 27ms/step - loss: 0.6922 - accuracy: 0.5116 - val_loss: 0.5350 - val_accuracy: 0.7408\n",
      "\n",
      "Epoch 00001: val_loss improved from inf to 0.53502, saving model to model23_weights.hdf5\n",
      "Epoch 2/3\n",
      "4500/4500 [==============================] - 121s 27ms/step - loss: 0.5036 - accuracy: 0.7550 - val_loss: 0.4156 - val_accuracy: 0.8137\n",
      "\n",
      "Epoch 00002: val_loss improved from 0.53502 to 0.41555, saving model to model23_weights.hdf5\n",
      "Epoch 3/3\n",
      "4500/4500 [==============================] - 120s 27ms/step - loss: 0.3854 - accuracy: 0.8300 - val_loss: 0.3064 - val_accuracy: 0.8718\n",
      "\n",
      "Epoch 00003: val_loss improved from 0.41555 to 0.30643, saving model to model23_weights.hdf5\n"
     ]
    }
   ],
   "source": [
    "# Get the model\n",
    "model23 = get_model(2,3)\n",
    "\n",
    "# Train the model\n",
    "train_model(model23, train_gen23, val_gen23, 'model23')"
   ]
  },
  {
   "cell_type": "markdown",
   "metadata": {},
   "source": [
    "#### 3.6 Model with 3 blocks, containing 3 convolutional layers per block"
   ]
  },
  {
   "cell_type": "code",
   "execution_count": 18,
   "metadata": {},
   "outputs": [
    {
     "name": "stdout",
     "output_type": "stream",
     "text": [
      "Found 144000 images belonging to 2 classes.\n",
      "Found 16000 images belonging to 2 classes.\n"
     ]
    }
   ],
   "source": [
    "train_gen33, val_gen33 = get_pcam_generators('data')"
   ]
  },
  {
   "cell_type": "code",
   "execution_count": 19,
   "metadata": {},
   "outputs": [
    {
     "name": "stdout",
     "output_type": "stream",
     "text": [
      "Epoch 1/3\n",
      "4500/4500 [==============================] - 123s 27ms/step - loss: 0.6614 - accuracy: 0.5694 - val_loss: 0.5431 - val_accuracy: 0.7717\n",
      "\n",
      "Epoch 00001: val_loss improved from inf to 0.54308, saving model to model33_weights.hdf5\n",
      "Epoch 2/3\n",
      "4500/4500 [==============================] - 121s 27ms/step - loss: 0.4146 - accuracy: 0.8153 - val_loss: 0.4392 - val_accuracy: 0.8066\n",
      "\n",
      "Epoch 00002: val_loss improved from 0.54308 to 0.43920, saving model to model33_weights.hdf5\n",
      "Epoch 3/3\n",
      "4500/4500 [==============================] - 122s 27ms/step - loss: 0.3560 - accuracy: 0.8454 - val_loss: 0.3396 - val_accuracy: 0.8453\n",
      "\n",
      "Epoch 00003: val_loss improved from 0.43920 to 0.33962, saving model to model33_weights.hdf5\n"
     ]
    }
   ],
   "source": [
    "# Get the model\n",
    "model33 = get_model(3,3)\n",
    "\n",
    "# Train the model\n",
    "train_model(model33, train_gen33, val_gen33, 'model33')"
   ]
  },
  {
   "cell_type": "markdown",
   "metadata": {},
   "source": [
    "#### 3.7 Model with 3 blocks, containing 3 convolutional layers per block TESTVERSION"
   ]
  },
  {
   "cell_type": "code",
   "execution_count": 20,
   "metadata": {},
   "outputs": [
    {
     "name": "stdout",
     "output_type": "stream",
     "text": [
      "Found 144000 images belonging to 2 classes.\n",
      "Found 16000 images belonging to 2 classes.\n"
     ]
    }
   ],
   "source": [
    "train_genX, val_genX = get_pcam_generators('data')"
   ]
  },
  {
   "cell_type": "code",
   "execution_count": 4,
   "metadata": {},
   "outputs": [
    {
     "name": "stderr",
     "output_type": "stream",
     "text": [
      "/home/8p361-lecturer/anaconda3/lib/python3.8/site-packages/tensorflow/python/keras/engine/training.py:1844: UserWarning: `Model.fit_generator` is deprecated and will be removed in a future version. Please use `Model.fit`, which supports generators.\n",
      "  warnings.warn('`Model.fit_generator` is deprecated and '\n"
     ]
    },
    {
     "name": "stdout",
     "output_type": "stream",
     "text": [
      "Epoch 1/3\n",
      "4500/4500 [==============================] - 127s 27ms/step - loss: 0.6703 - accuracy: 0.5460 - val_loss: 0.4545 - val_accuracy: 0.7953\n",
      "\n",
      "Epoch 00001: val_loss improved from inf to 0.45452, saving model to modelX_weights.hdf5\n",
      "Epoch 2/3\n",
      "4500/4500 [==============================] - 122s 27ms/step - loss: 0.4402 - accuracy: 0.8001 - val_loss: 0.3601 - val_accuracy: 0.8442\n",
      "\n",
      "Epoch 00002: val_loss improved from 0.45452 to 0.36014, saving model to modelX_weights.hdf5\n",
      "Epoch 3/3\n",
      "4500/4500 [==============================] - 122s 27ms/step - loss: 0.3421 - accuracy: 0.8512 - val_loss: 0.2760 - val_accuracy: 0.8837\n",
      "\n",
      "Epoch 00003: val_loss improved from 0.36014 to 0.27598, saving model to modelX_weights.hdf5\n"
     ]
    }
   ],
   "source": [
    "# Get the model\n",
    "modelX = get_model_test(3,3)\n",
    "\n",
    "# Train the model\n",
    "train_model(modelX, train_genX, val_genX, 'modelX')"
   ]
  },
  {
   "cell_type": "markdown",
   "metadata": {},
   "source": [
    "#### 3.8 Model with 2 blocks, containing 1 convolutional layers per block TESTVERSION"
   ]
  },
  {
   "cell_type": "code",
   "execution_count": 2,
   "metadata": {},
   "outputs": [
    {
     "name": "stdout",
     "output_type": "stream",
     "text": [
      "Found 144000 images belonging to 2 classes.\n",
      "Found 16000 images belonging to 2 classes.\n"
     ]
    }
   ],
   "source": [
    "train_genY, val_genY = get_pcam_generators('data')"
   ]
  },
  {
   "cell_type": "code",
   "execution_count": 3,
   "metadata": {},
   "outputs": [
    {
     "name": "stderr",
     "output_type": "stream",
     "text": [
      "/home/8p361-lecturer/anaconda3/lib/python3.8/site-packages/tensorflow/python/keras/engine/training.py:1844: UserWarning: `Model.fit_generator` is deprecated and will be removed in a future version. Please use `Model.fit`, which supports generators.\n",
      "  warnings.warn('`Model.fit_generator` is deprecated and '\n"
     ]
    },
    {
     "name": "stdout",
     "output_type": "stream",
     "text": [
      "Epoch 1/3\n",
      "4500/4500 [==============================] - 128s 28ms/step - loss: 0.5336 - accuracy: 0.7262 - val_loss: 0.4340 - val_accuracy: 0.8015\n",
      "\n",
      "Epoch 00001: val_loss improved from inf to 0.43405, saving model to modelY_weights.hdf5\n",
      "Epoch 2/3\n",
      "4500/4500 [==============================] - 125s 28ms/step - loss: 0.4217 - accuracy: 0.8080 - val_loss: 0.3915 - val_accuracy: 0.8255\n",
      "\n",
      "Epoch 00002: val_loss improved from 0.43405 to 0.39151, saving model to modelY_weights.hdf5\n",
      "Epoch 3/3\n",
      "4500/4500 [==============================] - 124s 27ms/step - loss: 0.3652 - accuracy: 0.8403 - val_loss: 0.3260 - val_accuracy: 0.8608\n",
      "\n",
      "Epoch 00003: val_loss improved from 0.39151 to 0.32596, saving model to modelY_weights.hdf5\n"
     ]
    }
   ],
   "source": [
    "# Get the model\n",
    "modelY = get_model_test(2,1)\n",
    "\n",
    "# Train the model\n",
    "train_model(modelY, train_genY, val_genY, 'modelY')"
   ]
  },
  {
   "cell_type": "markdown",
   "metadata": {},
   "source": [
    "#### 3.9 Model with 2 blocks, containing 3 convolutional layers per block TESTVERSION"
   ]
  },
  {
   "cell_type": "code",
   "execution_count": 5,
   "metadata": {},
   "outputs": [
    {
     "name": "stdout",
     "output_type": "stream",
     "text": [
      "Found 144000 images belonging to 2 classes.\n",
      "Found 16000 images belonging to 2 classes.\n"
     ]
    }
   ],
   "source": [
    "train_genZ, val_genZ = get_pcam_generators('data')"
   ]
  },
  {
   "cell_type": "code",
   "execution_count": 6,
   "metadata": {},
   "outputs": [
    {
     "name": "stdout",
     "output_type": "stream",
     "text": [
      "Epoch 1/3\n",
      "4500/4500 [==============================] - 124s 27ms/step - loss: 0.6641 - accuracy: 0.5720 - val_loss: 0.5601 - val_accuracy: 0.7113\n",
      "\n",
      "Epoch 00001: val_loss improved from inf to 0.56014, saving model to modelZ_weights.hdf5\n",
      "Epoch 2/3\n",
      "4500/4500 [==============================] - 125s 28ms/step - loss: 0.5210 - accuracy: 0.7426 - val_loss: 0.4239 - val_accuracy: 0.8067\n",
      "\n",
      "Epoch 00002: val_loss improved from 0.56014 to 0.42386, saving model to modelZ_weights.hdf5\n",
      "Epoch 3/3\n",
      "4500/4500 [==============================] - 125s 28ms/step - loss: 0.4311 - accuracy: 0.8053 - val_loss: 0.4282 - val_accuracy: 0.7979\n",
      "\n",
      "Epoch 00003: val_loss did not improve from 0.42386\n"
     ]
    }
   ],
   "source": [
    "# Get the model\n",
    "modelZ = get_model_test(2,3)\n",
    "\n",
    "# Train the model\n",
    "train_model(modelZ, train_genZ, val_genZ, 'modelZ')"
   ]
  },
  {
   "cell_type": "markdown",
   "metadata": {},
   "source": [
    "#### 3.10 Model with 3 blocks, containing 4 convolutional layers per block TESTVERSION"
   ]
  },
  {
   "cell_type": "code",
   "execution_count": 8,
   "metadata": {},
   "outputs": [
    {
     "name": "stdout",
     "output_type": "stream",
     "text": [
      "Found 144000 images belonging to 2 classes.\n",
      "Found 16000 images belonging to 2 classes.\n"
     ]
    }
   ],
   "source": [
    "train_genT, val_genT = get_pcam_generators('data')"
   ]
  },
  {
   "cell_type": "code",
   "execution_count": 10,
   "metadata": {},
   "outputs": [
    {
     "name": "stdout",
     "output_type": "stream",
     "text": [
      "Epoch 1/3\n",
      "4500/4500 [==============================] - 123s 27ms/step - loss: 0.6928 - accuracy: 0.5062 - val_loss: 0.6935 - val_accuracy: 0.5000\n",
      "\n",
      "Epoch 00001: val_loss improved from inf to 0.69351, saving model to modelT_weights.hdf5\n",
      "Epoch 2/3\n",
      " 811/4500 [====>.........................] - ETA: 1:30 - loss: 0.6933 - accuracy: 0.5028"
     ]
    },
    {
     "ename": "KeyboardInterrupt",
     "evalue": "",
     "output_type": "error",
     "traceback": [
      "\u001b[0;31m---------------------------------------------------------------------------\u001b[0m",
      "\u001b[0;31mKeyboardInterrupt\u001b[0m                         Traceback (most recent call last)",
      "\u001b[0;32m<ipython-input-10-af88694e95c1>\u001b[0m in \u001b[0;36m<module>\u001b[0;34m\u001b[0m\n\u001b[1;32m      3\u001b[0m \u001b[0;34m\u001b[0m\u001b[0m\n\u001b[1;32m      4\u001b[0m \u001b[0;31m# Train the model\u001b[0m\u001b[0;34m\u001b[0m\u001b[0;34m\u001b[0m\u001b[0;34m\u001b[0m\u001b[0m\n\u001b[0;32m----> 5\u001b[0;31m \u001b[0mtrain_model\u001b[0m\u001b[0;34m(\u001b[0m\u001b[0mmodelT\u001b[0m\u001b[0;34m,\u001b[0m \u001b[0mtrain_genT\u001b[0m\u001b[0;34m,\u001b[0m \u001b[0mval_genT\u001b[0m\u001b[0;34m,\u001b[0m \u001b[0;34m'modelT'\u001b[0m\u001b[0;34m)\u001b[0m\u001b[0;34m\u001b[0m\u001b[0;34m\u001b[0m\u001b[0m\n\u001b[0m",
      "\u001b[0;32m~/Optimization_Layers.py\u001b[0m in \u001b[0;36mtrain_model\u001b[0;34m(model, train_gen, val_gen, name)\u001b[0m\n\u001b[1;32m    159\u001b[0m     \u001b[0mval_steps\u001b[0m \u001b[0;34m=\u001b[0m \u001b[0mval_gen\u001b[0m\u001b[0;34m.\u001b[0m\u001b[0mn\u001b[0m\u001b[0;34m//\u001b[0m\u001b[0mval_gen\u001b[0m\u001b[0;34m.\u001b[0m\u001b[0mbatch_size\u001b[0m\u001b[0;34m\u001b[0m\u001b[0;34m\u001b[0m\u001b[0m\n\u001b[1;32m    160\u001b[0m \u001b[0;34m\u001b[0m\u001b[0m\n\u001b[0;32m--> 161\u001b[0;31m     history = model.fit_generator(train_gen, steps_per_epoch=train_steps, \n\u001b[0m\u001b[1;32m    162\u001b[0m                     \u001b[0mvalidation_data\u001b[0m\u001b[0;34m=\u001b[0m\u001b[0mval_gen\u001b[0m\u001b[0;34m,\u001b[0m\u001b[0;34m\u001b[0m\u001b[0;34m\u001b[0m\u001b[0m\n\u001b[1;32m    163\u001b[0m                     \u001b[0mvalidation_steps\u001b[0m\u001b[0;34m=\u001b[0m\u001b[0mval_steps\u001b[0m\u001b[0;34m,\u001b[0m\u001b[0;34m\u001b[0m\u001b[0;34m\u001b[0m\u001b[0m\n",
      "\u001b[0;32m/home/8p361-lecturer/anaconda3/lib/python3.8/site-packages/tensorflow/python/keras/engine/training.py\u001b[0m in \u001b[0;36mfit_generator\u001b[0;34m(self, generator, steps_per_epoch, epochs, verbose, callbacks, validation_data, validation_steps, validation_freq, class_weight, max_queue_size, workers, use_multiprocessing, shuffle, initial_epoch)\u001b[0m\n\u001b[1;32m   1845\u001b[0m                   \u001b[0;34m'will be removed in a future version. '\u001b[0m\u001b[0;34m\u001b[0m\u001b[0;34m\u001b[0m\u001b[0m\n\u001b[1;32m   1846\u001b[0m                   'Please use `Model.fit`, which supports generators.')\n\u001b[0;32m-> 1847\u001b[0;31m     return self.fit(\n\u001b[0m\u001b[1;32m   1848\u001b[0m         \u001b[0mgenerator\u001b[0m\u001b[0;34m,\u001b[0m\u001b[0;34m\u001b[0m\u001b[0;34m\u001b[0m\u001b[0m\n\u001b[1;32m   1849\u001b[0m         \u001b[0msteps_per_epoch\u001b[0m\u001b[0;34m=\u001b[0m\u001b[0msteps_per_epoch\u001b[0m\u001b[0;34m,\u001b[0m\u001b[0;34m\u001b[0m\u001b[0;34m\u001b[0m\u001b[0m\n",
      "\u001b[0;32m/home/8p361-lecturer/anaconda3/lib/python3.8/site-packages/tensorflow/python/keras/engine/training.py\u001b[0m in \u001b[0;36mfit\u001b[0;34m(self, x, y, batch_size, epochs, verbose, callbacks, validation_split, validation_data, shuffle, class_weight, sample_weight, initial_epoch, steps_per_epoch, validation_steps, validation_batch_size, validation_freq, max_queue_size, workers, use_multiprocessing)\u001b[0m\n\u001b[1;32m   1098\u001b[0m                 _r=1):\n\u001b[1;32m   1099\u001b[0m               \u001b[0mcallbacks\u001b[0m\u001b[0;34m.\u001b[0m\u001b[0mon_train_batch_begin\u001b[0m\u001b[0;34m(\u001b[0m\u001b[0mstep\u001b[0m\u001b[0;34m)\u001b[0m\u001b[0;34m\u001b[0m\u001b[0;34m\u001b[0m\u001b[0m\n\u001b[0;32m-> 1100\u001b[0;31m               \u001b[0mtmp_logs\u001b[0m \u001b[0;34m=\u001b[0m \u001b[0mself\u001b[0m\u001b[0;34m.\u001b[0m\u001b[0mtrain_function\u001b[0m\u001b[0;34m(\u001b[0m\u001b[0miterator\u001b[0m\u001b[0;34m)\u001b[0m\u001b[0;34m\u001b[0m\u001b[0;34m\u001b[0m\u001b[0m\n\u001b[0m\u001b[1;32m   1101\u001b[0m               \u001b[0;32mif\u001b[0m \u001b[0mdata_handler\u001b[0m\u001b[0;34m.\u001b[0m\u001b[0mshould_sync\u001b[0m\u001b[0;34m:\u001b[0m\u001b[0;34m\u001b[0m\u001b[0;34m\u001b[0m\u001b[0m\n\u001b[1;32m   1102\u001b[0m                 \u001b[0mcontext\u001b[0m\u001b[0;34m.\u001b[0m\u001b[0masync_wait\u001b[0m\u001b[0;34m(\u001b[0m\u001b[0;34m)\u001b[0m\u001b[0;34m\u001b[0m\u001b[0;34m\u001b[0m\u001b[0m\n",
      "\u001b[0;32m/home/8p361-lecturer/anaconda3/lib/python3.8/site-packages/tensorflow/python/eager/def_function.py\u001b[0m in \u001b[0;36m__call__\u001b[0;34m(self, *args, **kwds)\u001b[0m\n\u001b[1;32m    826\u001b[0m     \u001b[0mtracing_count\u001b[0m \u001b[0;34m=\u001b[0m \u001b[0mself\u001b[0m\u001b[0;34m.\u001b[0m\u001b[0mexperimental_get_tracing_count\u001b[0m\u001b[0;34m(\u001b[0m\u001b[0;34m)\u001b[0m\u001b[0;34m\u001b[0m\u001b[0;34m\u001b[0m\u001b[0m\n\u001b[1;32m    827\u001b[0m     \u001b[0;32mwith\u001b[0m \u001b[0mtrace\u001b[0m\u001b[0;34m.\u001b[0m\u001b[0mTrace\u001b[0m\u001b[0;34m(\u001b[0m\u001b[0mself\u001b[0m\u001b[0;34m.\u001b[0m\u001b[0m_name\u001b[0m\u001b[0;34m)\u001b[0m \u001b[0;32mas\u001b[0m \u001b[0mtm\u001b[0m\u001b[0;34m:\u001b[0m\u001b[0;34m\u001b[0m\u001b[0;34m\u001b[0m\u001b[0m\n\u001b[0;32m--> 828\u001b[0;31m       \u001b[0mresult\u001b[0m \u001b[0;34m=\u001b[0m \u001b[0mself\u001b[0m\u001b[0;34m.\u001b[0m\u001b[0m_call\u001b[0m\u001b[0;34m(\u001b[0m\u001b[0;34m*\u001b[0m\u001b[0margs\u001b[0m\u001b[0;34m,\u001b[0m \u001b[0;34m**\u001b[0m\u001b[0mkwds\u001b[0m\u001b[0;34m)\u001b[0m\u001b[0;34m\u001b[0m\u001b[0;34m\u001b[0m\u001b[0m\n\u001b[0m\u001b[1;32m    829\u001b[0m       \u001b[0mcompiler\u001b[0m \u001b[0;34m=\u001b[0m \u001b[0;34m\"xla\"\u001b[0m \u001b[0;32mif\u001b[0m \u001b[0mself\u001b[0m\u001b[0;34m.\u001b[0m\u001b[0m_experimental_compile\u001b[0m \u001b[0;32melse\u001b[0m \u001b[0;34m\"nonXla\"\u001b[0m\u001b[0;34m\u001b[0m\u001b[0;34m\u001b[0m\u001b[0m\n\u001b[1;32m    830\u001b[0m       \u001b[0mnew_tracing_count\u001b[0m \u001b[0;34m=\u001b[0m \u001b[0mself\u001b[0m\u001b[0;34m.\u001b[0m\u001b[0mexperimental_get_tracing_count\u001b[0m\u001b[0;34m(\u001b[0m\u001b[0;34m)\u001b[0m\u001b[0;34m\u001b[0m\u001b[0;34m\u001b[0m\u001b[0m\n",
      "\u001b[0;32m/home/8p361-lecturer/anaconda3/lib/python3.8/site-packages/tensorflow/python/eager/def_function.py\u001b[0m in \u001b[0;36m_call\u001b[0;34m(self, *args, **kwds)\u001b[0m\n\u001b[1;32m    853\u001b[0m       \u001b[0;31m# In this case we have created variables on the first call, so we run the\u001b[0m\u001b[0;34m\u001b[0m\u001b[0;34m\u001b[0m\u001b[0;34m\u001b[0m\u001b[0m\n\u001b[1;32m    854\u001b[0m       \u001b[0;31m# defunned version which is guaranteed to never create variables.\u001b[0m\u001b[0;34m\u001b[0m\u001b[0;34m\u001b[0m\u001b[0;34m\u001b[0m\u001b[0m\n\u001b[0;32m--> 855\u001b[0;31m       \u001b[0;32mreturn\u001b[0m \u001b[0mself\u001b[0m\u001b[0;34m.\u001b[0m\u001b[0m_stateless_fn\u001b[0m\u001b[0;34m(\u001b[0m\u001b[0;34m*\u001b[0m\u001b[0margs\u001b[0m\u001b[0;34m,\u001b[0m \u001b[0;34m**\u001b[0m\u001b[0mkwds\u001b[0m\u001b[0;34m)\u001b[0m  \u001b[0;31m# pylint: disable=not-callable\u001b[0m\u001b[0;34m\u001b[0m\u001b[0;34m\u001b[0m\u001b[0m\n\u001b[0m\u001b[1;32m    856\u001b[0m     \u001b[0;32melif\u001b[0m \u001b[0mself\u001b[0m\u001b[0;34m.\u001b[0m\u001b[0m_stateful_fn\u001b[0m \u001b[0;32mis\u001b[0m \u001b[0;32mnot\u001b[0m \u001b[0;32mNone\u001b[0m\u001b[0;34m:\u001b[0m\u001b[0;34m\u001b[0m\u001b[0;34m\u001b[0m\u001b[0m\n\u001b[1;32m    857\u001b[0m       \u001b[0;31m# Release the lock early so that multiple threads can perform the call\u001b[0m\u001b[0;34m\u001b[0m\u001b[0;34m\u001b[0m\u001b[0;34m\u001b[0m\u001b[0m\n",
      "\u001b[0;32m/home/8p361-lecturer/anaconda3/lib/python3.8/site-packages/tensorflow/python/eager/function.py\u001b[0m in \u001b[0;36m__call__\u001b[0;34m(self, *args, **kwargs)\u001b[0m\n\u001b[1;32m   2940\u001b[0m       (graph_function,\n\u001b[1;32m   2941\u001b[0m        filtered_flat_args) = self._maybe_define_function(args, kwargs)\n\u001b[0;32m-> 2942\u001b[0;31m     return graph_function._call_flat(\n\u001b[0m\u001b[1;32m   2943\u001b[0m         filtered_flat_args, captured_inputs=graph_function.captured_inputs)  # pylint: disable=protected-access\n\u001b[1;32m   2944\u001b[0m \u001b[0;34m\u001b[0m\u001b[0m\n",
      "\u001b[0;32m/home/8p361-lecturer/anaconda3/lib/python3.8/site-packages/tensorflow/python/eager/function.py\u001b[0m in \u001b[0;36m_call_flat\u001b[0;34m(self, args, captured_inputs, cancellation_manager)\u001b[0m\n\u001b[1;32m   1916\u001b[0m         and executing_eagerly):\n\u001b[1;32m   1917\u001b[0m       \u001b[0;31m# No tape is watching; skip to running the function.\u001b[0m\u001b[0;34m\u001b[0m\u001b[0;34m\u001b[0m\u001b[0;34m\u001b[0m\u001b[0m\n\u001b[0;32m-> 1918\u001b[0;31m       return self._build_call_outputs(self._inference_function.call(\n\u001b[0m\u001b[1;32m   1919\u001b[0m           ctx, args, cancellation_manager=cancellation_manager))\n\u001b[1;32m   1920\u001b[0m     forward_backward = self._select_forward_and_backward_functions(\n",
      "\u001b[0;32m/home/8p361-lecturer/anaconda3/lib/python3.8/site-packages/tensorflow/python/eager/function.py\u001b[0m in \u001b[0;36mcall\u001b[0;34m(self, ctx, args, cancellation_manager)\u001b[0m\n\u001b[1;32m    553\u001b[0m       \u001b[0;32mwith\u001b[0m \u001b[0m_InterpolateFunctionError\u001b[0m\u001b[0;34m(\u001b[0m\u001b[0mself\u001b[0m\u001b[0;34m)\u001b[0m\u001b[0;34m:\u001b[0m\u001b[0;34m\u001b[0m\u001b[0;34m\u001b[0m\u001b[0m\n\u001b[1;32m    554\u001b[0m         \u001b[0;32mif\u001b[0m \u001b[0mcancellation_manager\u001b[0m \u001b[0;32mis\u001b[0m \u001b[0;32mNone\u001b[0m\u001b[0;34m:\u001b[0m\u001b[0;34m\u001b[0m\u001b[0;34m\u001b[0m\u001b[0m\n\u001b[0;32m--> 555\u001b[0;31m           outputs = execute.execute(\n\u001b[0m\u001b[1;32m    556\u001b[0m               \u001b[0mstr\u001b[0m\u001b[0;34m(\u001b[0m\u001b[0mself\u001b[0m\u001b[0;34m.\u001b[0m\u001b[0msignature\u001b[0m\u001b[0;34m.\u001b[0m\u001b[0mname\u001b[0m\u001b[0;34m)\u001b[0m\u001b[0;34m,\u001b[0m\u001b[0;34m\u001b[0m\u001b[0;34m\u001b[0m\u001b[0m\n\u001b[1;32m    557\u001b[0m               \u001b[0mnum_outputs\u001b[0m\u001b[0;34m=\u001b[0m\u001b[0mself\u001b[0m\u001b[0;34m.\u001b[0m\u001b[0m_num_outputs\u001b[0m\u001b[0;34m,\u001b[0m\u001b[0;34m\u001b[0m\u001b[0;34m\u001b[0m\u001b[0m\n",
      "\u001b[0;32m/home/8p361-lecturer/anaconda3/lib/python3.8/site-packages/tensorflow/python/eager/execute.py\u001b[0m in \u001b[0;36mquick_execute\u001b[0;34m(op_name, num_outputs, inputs, attrs, ctx, name)\u001b[0m\n\u001b[1;32m     57\u001b[0m   \u001b[0;32mtry\u001b[0m\u001b[0;34m:\u001b[0m\u001b[0;34m\u001b[0m\u001b[0;34m\u001b[0m\u001b[0m\n\u001b[1;32m     58\u001b[0m     \u001b[0mctx\u001b[0m\u001b[0;34m.\u001b[0m\u001b[0mensure_initialized\u001b[0m\u001b[0;34m(\u001b[0m\u001b[0;34m)\u001b[0m\u001b[0;34m\u001b[0m\u001b[0;34m\u001b[0m\u001b[0m\n\u001b[0;32m---> 59\u001b[0;31m     tensors = pywrap_tfe.TFE_Py_Execute(ctx._handle, device_name, op_name,\n\u001b[0m\u001b[1;32m     60\u001b[0m                                         inputs, attrs, num_outputs)\n\u001b[1;32m     61\u001b[0m   \u001b[0;32mexcept\u001b[0m \u001b[0mcore\u001b[0m\u001b[0;34m.\u001b[0m\u001b[0m_NotOkStatusException\u001b[0m \u001b[0;32mas\u001b[0m \u001b[0me\u001b[0m\u001b[0;34m:\u001b[0m\u001b[0;34m\u001b[0m\u001b[0;34m\u001b[0m\u001b[0m\n",
      "\u001b[0;31mKeyboardInterrupt\u001b[0m: "
     ]
    }
   ],
   "source": [
    "# Get the model\n",
    "modelT = get_model(3,4)\n",
    "\n",
    "# Train the model\n",
    "train_model(modelT, train_genT, val_genT, 'modelT')"
   ]
  },
  {
   "cell_type": "code",
   "execution_count": 12,
   "metadata": {},
   "outputs": [],
   "source": [
    "from Analysis import analysis, ROC_curve"
   ]
  },
  {
   "cell_type": "code",
   "execution_count": 26,
   "metadata": {},
   "outputs": [
    {
     "name": "stdout",
     "output_type": "stream",
     "text": [
      "Loaded model from disk\n"
     ]
    }
   ],
   "source": [
    "from tensorflow.keras.models import Sequential, model_from_json\n",
    "json_file = open('model23.json','r')\n",
    "loaded_model_json = json_file.read()\n",
    "json_file.close()\n",
    "modelX = model_from_json(loaded_model_json)\n",
    "modelX.load_weights(\"model23_weights.hdf5\")\n",
    "print(\"Loaded model from disk\")"
   ]
  },
  {
   "cell_type": "code",
   "execution_count": 27,
   "metadata": {},
   "outputs": [
    {
     "name": "stderr",
     "output_type": "stream",
     "text": [
      "/home/8p361-lecturer/anaconda3/lib/python3.8/site-packages/tensorflow/python/keras/engine/training.py:1905: UserWarning: `Model.predict_generator` is deprecated and will be removed in a future version. Please use `Model.predict`, which supports generators.\n",
      "  warnings.warn('`Model.predict_generator` is deprecated and '\n"
     ]
    },
    {
     "name": "stdout",
     "output_type": "stream",
     "text": [
      "0.8753312302839117 0.868359133126935\n"
     ]
    },
    {
     "data": {
      "image/png": "[encoded data removed]",
      "text/plain": [
       "<Figure size 432x288 with 2 Axes>"
      ]
     },
     "metadata": {
      "needs_background": "light"
     },
     "output_type": "display_data"
    }
   ],
   "source": [
    "analysis(modelX,val_genX)"
   ]
  },
  {
   "cell_type": "code",
   "execution_count": 28,
   "metadata": {},
   "outputs": [
    {
     "data": {
      "image/png": "[encoded data removed]",
      "text/plain": [
       "<Figure size 432x288 with 1 Axes>"
      ]
     },
     "metadata": {
      "needs_background": "light"
     },
     "output_type": "display_data"
    }
   ],
   "source": [
    "ROC_curve(modelX,val_genX)"
   ]
  }
 ],
 "metadata": {
  "kernelspec": {
   "display_name": "Python 3",
   "language": "python",
   "name": "python3"
  },
  "language_info": {
   "codemirror_mode": {
    "name": "ipython",
    "version": 3
   },
   "file_extension": ".py",
   "mimetype": "text/x-python",
   "name": "python",
   "nbconvert_exporter": "python",
   "pygments_lexer": "ipython3",
   "version": "3.8.5"
  }
 },
 "nbformat": 4,
 "nbformat_minor": 4
}
